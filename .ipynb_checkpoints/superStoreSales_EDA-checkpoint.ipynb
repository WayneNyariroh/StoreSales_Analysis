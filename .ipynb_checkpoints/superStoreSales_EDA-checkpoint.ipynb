{
 "cells": [
  {
   "cell_type": "markdown",
   "id": "87725b5c-eb5b-4212-8b30-1f248f3ac772",
   "metadata": {
    "tags": []
   },
   "source": [
    "# Exploratory Data Analysis using Python\n",
    "#### by ***Wayne Omondi***"
   ]
  },
  {
   "cell_type": "markdown",
   "id": "2622c318-cb47-4e57-916f-93c43d4ce0ad",
   "metadata": {},
   "source": [
    "## 1.0: Introduction\n",
    "\n",
    "In this modern times where every business is highly dependent on its data *(Data is King)* to make better decisions for developing business, data analysis plays an important role in helping different business entities to get an idea on their performance and any opportunities to increase gains and minimise losses. Objective is to gain valuable insights on the overall performance of the store.\n",
    "\n",
    "For our analysis we will be using the [SuperStore dataset](https://community.tableau.com/s/question/0D54T00000CWeX8SAL/sample-superstore-sales-excelxls)."
   ]
  },
  {
   "cell_type": "markdown",
   "id": "12e98fcf-4aca-4604-93f1-c435221bf7e5",
   "metadata": {
    "tags": []
   },
   "source": [
    "### 1.1: Why Python?\n",
    "\n",
    "**Python** is a popular choice for Data Analysis due to the many helpful analytics libraries and even for scientific computing, machine learning and more complex tasks. Combined with Python's overall strength for general-purpose software engineering, it is an excellent tool for building data applications.\n"
   ]
  },
  {
   "cell_type": "markdown",
   "id": "58ba1282-812c-4bae-aa8d-68df219f1744",
   "metadata": {},
   "source": [
    "### 1.2: Our Tools\n",
    "For our EDA, we will be using the following libraries:\n",
    "-  **pandas** (a library that makes working with structured and tabular data fast, easy and expressive).\n",
    "-  **numpy** (a library that provides the data structures and algorithms useful for numerical computing).\n",
    "-  **matplotlip** (library for plots and two-dimensional visualizations).\n",
    "-  **seaborn** (statistical data visualization library).\n",
    "\n",
    "Let's not forget *Jupyter* library that allows as to present our code in form of an interactive notebook/document with text, plots and other outputs (even a terminal - through magic commands)\n",
    "All these have already been install in our python virtual environment."
   ]
  },
  {
   "cell_type": "markdown",
   "id": "18cd5ec6-9944-4513-a366-f36c3c9a0cf2",
   "metadata": {},
   "source": [
    "### 1.3: Importing Our Libraries and Some Necessary Functions"
   ]
  },
  {
   "cell_type": "markdown",
   "id": "6497742d-32a0-46e5-a6af-3db208d0ff3e",
   "metadata": {},
   "source": [
    "Since we are using the pandas and numpy libraries for our data processing and manipulation and the matplotlib and seaborn libraries for data vizualization, to start off we have to import them"
   ]
  },
  {
   "cell_type": "code",
   "execution_count": 115,
   "id": "a15b7fea-944a-4dc0-a4d2-3a88dde4ed29",
   "metadata": {},
   "outputs": [],
   "source": [
    "import pandas as pd\n",
    "import numpy as np\n",
    "import seaborn as sns\n",
    "import matplotlib.pyplot as plt"
   ]
  },
  {
   "cell_type": "markdown",
   "id": "a4448ee6-17a5-4d3f-b875-d0771c70dc99",
   "metadata": {},
   "source": [
    "Additional this being a Sales dataset we will likely be working with dates and/or time. So inorder to be able to manipulate those we will make an additional import of the 'datetime' function in Python"
   ]
  },
  {
   "cell_type": "code",
   "execution_count": 116,
   "id": "5f4b3d46-891c-44c3-88f4-2b331ccb7e0d",
   "metadata": {},
   "outputs": [],
   "source": [
    "from datetime import datetime, date, time"
   ]
  },
  {
   "cell_type": "markdown",
   "id": "39aff5f3-6abb-43e2-97be-3befbeb16328",
   "metadata": {},
   "source": [
    "We will also be disabling the warnings in the jupyter, setting the filter to never display warnings.\n",
    "[More on Warnings](https://www.geeksforgeeks.org/warnings-in-python/)."
   ]
  },
  {
   "cell_type": "code",
   "execution_count": 117,
   "id": "b8c13555-f6c1-4aac-bc85-332b2cad0b58",
   "metadata": {},
   "outputs": [],
   "source": [
    "import warnings \n",
    "warnings.filterwarnings(\"ignore\")"
   ]
  },
  {
   "cell_type": "markdown",
   "id": "a7907644-4899-4c02-811f-c5fa4e4ffc27",
   "metadata": {},
   "source": [
    "## 2.0: Our Data"
   ]
  },
  {
   "cell_type": "markdown",
   "id": "bc5cc18f-fbcf-4696-a25a-1a709cb28a6a",
   "metadata": {},
   "source": [
    "We have to load our data, view it, process it and explore it, before we can proceed to analyse and query it."
   ]
  },
  {
   "cell_type": "markdown",
   "id": "4c10139d-40d9-461c-8536-14203e087add",
   "metadata": {},
   "source": [
    "### 2.1: Loading Our Data"
   ]
  },
  {
   "cell_type": "markdown",
   "id": "636c2e2f-61dd-4cbc-93f5-d415c3353c11",
   "metadata": {},
   "source": [
    "In our case our data is stored in a csv format so we will use the .read_csv() method."
   ]
  },
  {
   "cell_type": "code",
   "execution_count": 118,
   "id": "2eb20d9d-9c14-4c7f-984d-7fda69ae29f5",
   "metadata": {},
   "outputs": [],
   "source": [
    "store_df = pd.read_csv('data/SuperStoreSales_Whole.csv') #loading our dataset into a dataframe named store_df"
   ]
  },
  {
   "cell_type": "markdown",
   "id": "d7633fa8-d799-43f2-8279-895d58be6eff",
   "metadata": {},
   "source": [
    "### 2.2: Viewing Our Data "
   ]
  },
  {
   "cell_type": "markdown",
   "id": "3bf66b30-356b-4ad5-9936-e534538994d8",
   "metadata": {},
   "source": [
    "We have to see what we are working with and whether any data cleaning is necessary. In this step we display our dataset, get to know how many columns and rows are present, how much data is missing, present datatypes in each column, unique features and last but least a statistical description of our dataset.\n",
    "While doing this we will also get to understand more about the store, for example, what products they sells, who they sell to and where, before we dive into their performance."
   ]
  },
  {
   "cell_type": "code",
   "execution_count": 119,
   "id": "3a16557d-9cc9-49ba-8efb-0c4701994c05",
   "metadata": {},
   "outputs": [
    {
     "data": {
      "text/html": [
       "<div>\n",
       "<style scoped>\n",
       "    .dataframe tbody tr th:only-of-type {\n",
       "        vertical-align: middle;\n",
       "    }\n",
       "\n",
       "    .dataframe tbody tr th {\n",
       "        vertical-align: top;\n",
       "    }\n",
       "\n",
       "    .dataframe thead th {\n",
       "        text-align: right;\n",
       "    }\n",
       "</style>\n",
       "<table border=\"1\" class=\"dataframe\">\n",
       "  <thead>\n",
       "    <tr style=\"text-align: right;\">\n",
       "      <th></th>\n",
       "      <th>Row ID</th>\n",
       "      <th>Order ID</th>\n",
       "      <th>Order Date</th>\n",
       "      <th>Ship Date</th>\n",
       "      <th>Ship Mode</th>\n",
       "      <th>Customer ID</th>\n",
       "      <th>Customer Name</th>\n",
       "      <th>Segment</th>\n",
       "      <th>Country</th>\n",
       "      <th>City</th>\n",
       "      <th>...</th>\n",
       "      <th>Postal Code</th>\n",
       "      <th>Region</th>\n",
       "      <th>Product ID</th>\n",
       "      <th>Category</th>\n",
       "      <th>Sub-Category</th>\n",
       "      <th>Product Name</th>\n",
       "      <th>Sales</th>\n",
       "      <th>Quantity</th>\n",
       "      <th>Discount</th>\n",
       "      <th>Profit</th>\n",
       "    </tr>\n",
       "  </thead>\n",
       "  <tbody>\n",
       "    <tr>\n",
       "      <th>0</th>\n",
       "      <td>1</td>\n",
       "      <td>CA-2017-152156</td>\n",
       "      <td>8/11/2017</td>\n",
       "      <td>11/11/2017</td>\n",
       "      <td>Second Class</td>\n",
       "      <td>CG-12520</td>\n",
       "      <td>Claire Gute</td>\n",
       "      <td>Consumer</td>\n",
       "      <td>United States</td>\n",
       "      <td>Henderson</td>\n",
       "      <td>...</td>\n",
       "      <td>42420.0</td>\n",
       "      <td>South</td>\n",
       "      <td>FUR-BO-10001798</td>\n",
       "      <td>Furniture</td>\n",
       "      <td>Bookcases</td>\n",
       "      <td>Bush Somerset Collection Bookcase</td>\n",
       "      <td>261.9600</td>\n",
       "      <td>2</td>\n",
       "      <td>0.00</td>\n",
       "      <td>41.9136</td>\n",
       "    </tr>\n",
       "    <tr>\n",
       "      <th>1</th>\n",
       "      <td>2</td>\n",
       "      <td>CA-2017-152156</td>\n",
       "      <td>8/11/2017</td>\n",
       "      <td>11/11/2017</td>\n",
       "      <td>Second Class</td>\n",
       "      <td>CG-12520</td>\n",
       "      <td>Claire Gute</td>\n",
       "      <td>Consumer</td>\n",
       "      <td>United States</td>\n",
       "      <td>Henderson</td>\n",
       "      <td>...</td>\n",
       "      <td>42420.0</td>\n",
       "      <td>South</td>\n",
       "      <td>FUR-CH-10000454</td>\n",
       "      <td>Furniture</td>\n",
       "      <td>Chairs</td>\n",
       "      <td>Hon Deluxe Fabric Upholstered Stacking Chairs,...</td>\n",
       "      <td>731.9400</td>\n",
       "      <td>3</td>\n",
       "      <td>0.00</td>\n",
       "      <td>219.5820</td>\n",
       "    </tr>\n",
       "    <tr>\n",
       "      <th>2</th>\n",
       "      <td>3</td>\n",
       "      <td>CA-2017-138688</td>\n",
       "      <td>12/6/2017</td>\n",
       "      <td>16/06/2017</td>\n",
       "      <td>Second Class</td>\n",
       "      <td>DV-13045</td>\n",
       "      <td>Darrin Van Huff</td>\n",
       "      <td>Corporate</td>\n",
       "      <td>United States</td>\n",
       "      <td>Los Angeles</td>\n",
       "      <td>...</td>\n",
       "      <td>90036.0</td>\n",
       "      <td>West</td>\n",
       "      <td>OFF-LA-10000240</td>\n",
       "      <td>Office Supplies</td>\n",
       "      <td>Labels</td>\n",
       "      <td>Self-Adhesive Address Labels for Typewriters b...</td>\n",
       "      <td>14.6200</td>\n",
       "      <td>2</td>\n",
       "      <td>0.00</td>\n",
       "      <td>6.8714</td>\n",
       "    </tr>\n",
       "    <tr>\n",
       "      <th>3</th>\n",
       "      <td>4</td>\n",
       "      <td>US-2016-108966</td>\n",
       "      <td>11/10/2016</td>\n",
       "      <td>18/10/2016</td>\n",
       "      <td>Standard Class</td>\n",
       "      <td>SO-20335</td>\n",
       "      <td>Sean O'Donnell</td>\n",
       "      <td>Consumer</td>\n",
       "      <td>United States</td>\n",
       "      <td>Fort Lauderdale</td>\n",
       "      <td>...</td>\n",
       "      <td>33311.0</td>\n",
       "      <td>South</td>\n",
       "      <td>FUR-TA-10000577</td>\n",
       "      <td>Furniture</td>\n",
       "      <td>Tables</td>\n",
       "      <td>Bretford CR4500 Series Slim Rectangular Table</td>\n",
       "      <td>957.5775</td>\n",
       "      <td>5</td>\n",
       "      <td>0.45</td>\n",
       "      <td>-383.0310</td>\n",
       "    </tr>\n",
       "    <tr>\n",
       "      <th>4</th>\n",
       "      <td>5</td>\n",
       "      <td>US-2016-108966</td>\n",
       "      <td>11/10/2016</td>\n",
       "      <td>18/10/2016</td>\n",
       "      <td>Standard Class</td>\n",
       "      <td>SO-20335</td>\n",
       "      <td>Sean O'Donnell</td>\n",
       "      <td>Consumer</td>\n",
       "      <td>United States</td>\n",
       "      <td>Fort Lauderdale</td>\n",
       "      <td>...</td>\n",
       "      <td>33311.0</td>\n",
       "      <td>South</td>\n",
       "      <td>OFF-ST-10000760</td>\n",
       "      <td>Office Supplies</td>\n",
       "      <td>Storage</td>\n",
       "      <td>Eldon Fold 'N Roll Cart System</td>\n",
       "      <td>22.3680</td>\n",
       "      <td>2</td>\n",
       "      <td>0.20</td>\n",
       "      <td>2.5164</td>\n",
       "    </tr>\n",
       "  </tbody>\n",
       "</table>\n",
       "<p>5 rows × 21 columns</p>\n",
       "</div>"
      ],
      "text/plain": [
       "   Row ID        Order ID  Order Date   Ship Date       Ship Mode Customer ID  \\\n",
       "0       1  CA-2017-152156   8/11/2017  11/11/2017    Second Class    CG-12520   \n",
       "1       2  CA-2017-152156   8/11/2017  11/11/2017    Second Class    CG-12520   \n",
       "2       3  CA-2017-138688   12/6/2017  16/06/2017    Second Class    DV-13045   \n",
       "3       4  US-2016-108966  11/10/2016  18/10/2016  Standard Class    SO-20335   \n",
       "4       5  US-2016-108966  11/10/2016  18/10/2016  Standard Class    SO-20335   \n",
       "\n",
       "     Customer Name    Segment        Country             City  ...  \\\n",
       "0      Claire Gute   Consumer  United States        Henderson  ...   \n",
       "1      Claire Gute   Consumer  United States        Henderson  ...   \n",
       "2  Darrin Van Huff  Corporate  United States      Los Angeles  ...   \n",
       "3   Sean O'Donnell   Consumer  United States  Fort Lauderdale  ...   \n",
       "4   Sean O'Donnell   Consumer  United States  Fort Lauderdale  ...   \n",
       "\n",
       "  Postal Code  Region       Product ID         Category Sub-Category  \\\n",
       "0     42420.0   South  FUR-BO-10001798        Furniture    Bookcases   \n",
       "1     42420.0   South  FUR-CH-10000454        Furniture       Chairs   \n",
       "2     90036.0    West  OFF-LA-10000240  Office Supplies       Labels   \n",
       "3     33311.0   South  FUR-TA-10000577        Furniture       Tables   \n",
       "4     33311.0   South  OFF-ST-10000760  Office Supplies      Storage   \n",
       "\n",
       "                                        Product Name     Sales  Quantity  \\\n",
       "0                  Bush Somerset Collection Bookcase  261.9600         2   \n",
       "1  Hon Deluxe Fabric Upholstered Stacking Chairs,...  731.9400         3   \n",
       "2  Self-Adhesive Address Labels for Typewriters b...   14.6200         2   \n",
       "3      Bretford CR4500 Series Slim Rectangular Table  957.5775         5   \n",
       "4                     Eldon Fold 'N Roll Cart System   22.3680         2   \n",
       "\n",
       "   Discount    Profit  \n",
       "0      0.00   41.9136  \n",
       "1      0.00  219.5820  \n",
       "2      0.00    6.8714  \n",
       "3      0.45 -383.0310  \n",
       "4      0.20    2.5164  \n",
       "\n",
       "[5 rows x 21 columns]"
      ]
     },
     "execution_count": 119,
     "metadata": {},
     "output_type": "execute_result"
    }
   ],
   "source": [
    "store_df.head(5) #display the first five rows of our dataset"
   ]
  },
  {
   "cell_type": "code",
   "execution_count": 120,
   "id": "a7654f07-0d17-490e-a7db-3f59392ac77c",
   "metadata": {},
   "outputs": [
    {
     "data": {
      "text/plain": [
       "(9800, 21)"
      ]
     },
     "execution_count": 120,
     "metadata": {},
     "output_type": "execute_result"
    }
   ],
   "source": [
    "store_df.shape #view the shape of our dataset - total rows and columns."
   ]
  },
  {
   "cell_type": "markdown",
   "id": "a3202889-6000-4d25-8935-88c65e0d399d",
   "metadata": {},
   "source": [
    "Our dataset has 9800 rows and 21 columns. Depending on our objective with our EDA we could drop some columns from the analysis, for example the *'Customer Name'* columns is not necessary. In certain case personal information is often excluded from a data analysis, unless in our case if the store intends to award the most loyal and/or top customer. In that case we could still drop the *'Customer Name'* column and retain the *'Customer ID'* column for that query."
   ]
  },
  {
   "cell_type": "code",
   "execution_count": 121,
   "id": "d0e10508-2490-4bd8-adcd-9ee4ef38e7e3",
   "metadata": {},
   "outputs": [
    {
     "data": {
      "text/html": [
       "<div>\n",
       "<style scoped>\n",
       "    .dataframe tbody tr th:only-of-type {\n",
       "        vertical-align: middle;\n",
       "    }\n",
       "\n",
       "    .dataframe tbody tr th {\n",
       "        vertical-align: top;\n",
       "    }\n",
       "\n",
       "    .dataframe thead th {\n",
       "        text-align: right;\n",
       "    }\n",
       "</style>\n",
       "<table border=\"1\" class=\"dataframe\">\n",
       "  <thead>\n",
       "    <tr style=\"text-align: right;\">\n",
       "      <th></th>\n",
       "      <th>Order ID</th>\n",
       "      <th>Order Date</th>\n",
       "      <th>Ship Date</th>\n",
       "      <th>Ship Mode</th>\n",
       "      <th>Customer ID</th>\n",
       "      <th>Segment</th>\n",
       "      <th>Country</th>\n",
       "      <th>City</th>\n",
       "      <th>State</th>\n",
       "      <th>Postal Code</th>\n",
       "      <th>Region</th>\n",
       "      <th>Product ID</th>\n",
       "      <th>Category</th>\n",
       "      <th>Sub-Category</th>\n",
       "      <th>Product Name</th>\n",
       "      <th>Sales</th>\n",
       "      <th>Quantity</th>\n",
       "      <th>Discount</th>\n",
       "      <th>Profit</th>\n",
       "    </tr>\n",
       "  </thead>\n",
       "  <tbody>\n",
       "    <tr>\n",
       "      <th>0</th>\n",
       "      <td>CA-2017-152156</td>\n",
       "      <td>8/11/2017</td>\n",
       "      <td>11/11/2017</td>\n",
       "      <td>Second Class</td>\n",
       "      <td>CG-12520</td>\n",
       "      <td>Consumer</td>\n",
       "      <td>United States</td>\n",
       "      <td>Henderson</td>\n",
       "      <td>Kentucky</td>\n",
       "      <td>42420.0</td>\n",
       "      <td>South</td>\n",
       "      <td>FUR-BO-10001798</td>\n",
       "      <td>Furniture</td>\n",
       "      <td>Bookcases</td>\n",
       "      <td>Bush Somerset Collection Bookcase</td>\n",
       "      <td>261.9600</td>\n",
       "      <td>2</td>\n",
       "      <td>0.00</td>\n",
       "      <td>41.9136</td>\n",
       "    </tr>\n",
       "    <tr>\n",
       "      <th>1</th>\n",
       "      <td>CA-2017-152156</td>\n",
       "      <td>8/11/2017</td>\n",
       "      <td>11/11/2017</td>\n",
       "      <td>Second Class</td>\n",
       "      <td>CG-12520</td>\n",
       "      <td>Consumer</td>\n",
       "      <td>United States</td>\n",
       "      <td>Henderson</td>\n",
       "      <td>Kentucky</td>\n",
       "      <td>42420.0</td>\n",
       "      <td>South</td>\n",
       "      <td>FUR-CH-10000454</td>\n",
       "      <td>Furniture</td>\n",
       "      <td>Chairs</td>\n",
       "      <td>Hon Deluxe Fabric Upholstered Stacking Chairs,...</td>\n",
       "      <td>731.9400</td>\n",
       "      <td>3</td>\n",
       "      <td>0.00</td>\n",
       "      <td>219.5820</td>\n",
       "    </tr>\n",
       "    <tr>\n",
       "      <th>2</th>\n",
       "      <td>CA-2017-138688</td>\n",
       "      <td>12/6/2017</td>\n",
       "      <td>16/06/2017</td>\n",
       "      <td>Second Class</td>\n",
       "      <td>DV-13045</td>\n",
       "      <td>Corporate</td>\n",
       "      <td>United States</td>\n",
       "      <td>Los Angeles</td>\n",
       "      <td>California</td>\n",
       "      <td>90036.0</td>\n",
       "      <td>West</td>\n",
       "      <td>OFF-LA-10000240</td>\n",
       "      <td>Office Supplies</td>\n",
       "      <td>Labels</td>\n",
       "      <td>Self-Adhesive Address Labels for Typewriters b...</td>\n",
       "      <td>14.6200</td>\n",
       "      <td>2</td>\n",
       "      <td>0.00</td>\n",
       "      <td>6.8714</td>\n",
       "    </tr>\n",
       "    <tr>\n",
       "      <th>3</th>\n",
       "      <td>US-2016-108966</td>\n",
       "      <td>11/10/2016</td>\n",
       "      <td>18/10/2016</td>\n",
       "      <td>Standard Class</td>\n",
       "      <td>SO-20335</td>\n",
       "      <td>Consumer</td>\n",
       "      <td>United States</td>\n",
       "      <td>Fort Lauderdale</td>\n",
       "      <td>Florida</td>\n",
       "      <td>33311.0</td>\n",
       "      <td>South</td>\n",
       "      <td>FUR-TA-10000577</td>\n",
       "      <td>Furniture</td>\n",
       "      <td>Tables</td>\n",
       "      <td>Bretford CR4500 Series Slim Rectangular Table</td>\n",
       "      <td>957.5775</td>\n",
       "      <td>5</td>\n",
       "      <td>0.45</td>\n",
       "      <td>-383.0310</td>\n",
       "    </tr>\n",
       "    <tr>\n",
       "      <th>4</th>\n",
       "      <td>US-2016-108966</td>\n",
       "      <td>11/10/2016</td>\n",
       "      <td>18/10/2016</td>\n",
       "      <td>Standard Class</td>\n",
       "      <td>SO-20335</td>\n",
       "      <td>Consumer</td>\n",
       "      <td>United States</td>\n",
       "      <td>Fort Lauderdale</td>\n",
       "      <td>Florida</td>\n",
       "      <td>33311.0</td>\n",
       "      <td>South</td>\n",
       "      <td>OFF-ST-10000760</td>\n",
       "      <td>Office Supplies</td>\n",
       "      <td>Storage</td>\n",
       "      <td>Eldon Fold 'N Roll Cart System</td>\n",
       "      <td>22.3680</td>\n",
       "      <td>2</td>\n",
       "      <td>0.20</td>\n",
       "      <td>2.5164</td>\n",
       "    </tr>\n",
       "    <tr>\n",
       "      <th>...</th>\n",
       "      <td>...</td>\n",
       "      <td>...</td>\n",
       "      <td>...</td>\n",
       "      <td>...</td>\n",
       "      <td>...</td>\n",
       "      <td>...</td>\n",
       "      <td>...</td>\n",
       "      <td>...</td>\n",
       "      <td>...</td>\n",
       "      <td>...</td>\n",
       "      <td>...</td>\n",
       "      <td>...</td>\n",
       "      <td>...</td>\n",
       "      <td>...</td>\n",
       "      <td>...</td>\n",
       "      <td>...</td>\n",
       "      <td>...</td>\n",
       "      <td>...</td>\n",
       "      <td>...</td>\n",
       "    </tr>\n",
       "    <tr>\n",
       "      <th>9795</th>\n",
       "      <td>CA-2017-125920</td>\n",
       "      <td>21/05/2017</td>\n",
       "      <td>28/05/2017</td>\n",
       "      <td>Standard Class</td>\n",
       "      <td>SH-19975</td>\n",
       "      <td>Corporate</td>\n",
       "      <td>United States</td>\n",
       "      <td>Chicago</td>\n",
       "      <td>Illinois</td>\n",
       "      <td>60610.0</td>\n",
       "      <td>Central</td>\n",
       "      <td>OFF-BI-10003429</td>\n",
       "      <td>Office Supplies</td>\n",
       "      <td>Binders</td>\n",
       "      <td>Cardinal HOLDit! Binder Insert Strips,Extra St...</td>\n",
       "      <td>3.7980</td>\n",
       "      <td>3</td>\n",
       "      <td>0.80</td>\n",
       "      <td>-5.8869</td>\n",
       "    </tr>\n",
       "    <tr>\n",
       "      <th>9796</th>\n",
       "      <td>CA-2016-128608</td>\n",
       "      <td>12/1/2016</td>\n",
       "      <td>17/01/2016</td>\n",
       "      <td>Standard Class</td>\n",
       "      <td>CS-12490</td>\n",
       "      <td>Corporate</td>\n",
       "      <td>United States</td>\n",
       "      <td>Toledo</td>\n",
       "      <td>Ohio</td>\n",
       "      <td>43615.0</td>\n",
       "      <td>East</td>\n",
       "      <td>OFF-AR-10001374</td>\n",
       "      <td>Office Supplies</td>\n",
       "      <td>Art</td>\n",
       "      <td>BIC Brite Liner Highlighters, Chisel Tip</td>\n",
       "      <td>10.3680</td>\n",
       "      <td>2</td>\n",
       "      <td>0.20</td>\n",
       "      <td>1.5552</td>\n",
       "    </tr>\n",
       "    <tr>\n",
       "      <th>9797</th>\n",
       "      <td>CA-2016-128608</td>\n",
       "      <td>12/1/2016</td>\n",
       "      <td>17/01/2016</td>\n",
       "      <td>Standard Class</td>\n",
       "      <td>CS-12490</td>\n",
       "      <td>Corporate</td>\n",
       "      <td>United States</td>\n",
       "      <td>Toledo</td>\n",
       "      <td>Ohio</td>\n",
       "      <td>43615.0</td>\n",
       "      <td>East</td>\n",
       "      <td>TEC-PH-10004977</td>\n",
       "      <td>Technology</td>\n",
       "      <td>Phones</td>\n",
       "      <td>GE 30524EE4</td>\n",
       "      <td>235.1880</td>\n",
       "      <td>2</td>\n",
       "      <td>0.40</td>\n",
       "      <td>-43.1178</td>\n",
       "    </tr>\n",
       "    <tr>\n",
       "      <th>9798</th>\n",
       "      <td>CA-2016-128608</td>\n",
       "      <td>12/1/2016</td>\n",
       "      <td>17/01/2016</td>\n",
       "      <td>Standard Class</td>\n",
       "      <td>CS-12490</td>\n",
       "      <td>Corporate</td>\n",
       "      <td>United States</td>\n",
       "      <td>Toledo</td>\n",
       "      <td>Ohio</td>\n",
       "      <td>43615.0</td>\n",
       "      <td>East</td>\n",
       "      <td>TEC-PH-10000912</td>\n",
       "      <td>Technology</td>\n",
       "      <td>Phones</td>\n",
       "      <td>Anker 24W Portable Micro USB Car Charger</td>\n",
       "      <td>26.3760</td>\n",
       "      <td>4</td>\n",
       "      <td>0.40</td>\n",
       "      <td>2.6376</td>\n",
       "    </tr>\n",
       "    <tr>\n",
       "      <th>9799</th>\n",
       "      <td>CA-2016-128608</td>\n",
       "      <td>12/1/2016</td>\n",
       "      <td>17/01/2016</td>\n",
       "      <td>Standard Class</td>\n",
       "      <td>CS-12490</td>\n",
       "      <td>Corporate</td>\n",
       "      <td>United States</td>\n",
       "      <td>Toledo</td>\n",
       "      <td>Ohio</td>\n",
       "      <td>43615.0</td>\n",
       "      <td>East</td>\n",
       "      <td>TEC-AC-10000487</td>\n",
       "      <td>Technology</td>\n",
       "      <td>Accessories</td>\n",
       "      <td>SanDisk Cruzer 4 GB USB Flash Drive</td>\n",
       "      <td>10.3840</td>\n",
       "      <td>2</td>\n",
       "      <td>0.20</td>\n",
       "      <td>2.2066</td>\n",
       "    </tr>\n",
       "  </tbody>\n",
       "</table>\n",
       "<p>9800 rows × 19 columns</p>\n",
       "</div>"
      ],
      "text/plain": [
       "            Order ID  Order Date   Ship Date       Ship Mode Customer ID  \\\n",
       "0     CA-2017-152156   8/11/2017  11/11/2017    Second Class    CG-12520   \n",
       "1     CA-2017-152156   8/11/2017  11/11/2017    Second Class    CG-12520   \n",
       "2     CA-2017-138688   12/6/2017  16/06/2017    Second Class    DV-13045   \n",
       "3     US-2016-108966  11/10/2016  18/10/2016  Standard Class    SO-20335   \n",
       "4     US-2016-108966  11/10/2016  18/10/2016  Standard Class    SO-20335   \n",
       "...              ...         ...         ...             ...         ...   \n",
       "9795  CA-2017-125920  21/05/2017  28/05/2017  Standard Class    SH-19975   \n",
       "9796  CA-2016-128608   12/1/2016  17/01/2016  Standard Class    CS-12490   \n",
       "9797  CA-2016-128608   12/1/2016  17/01/2016  Standard Class    CS-12490   \n",
       "9798  CA-2016-128608   12/1/2016  17/01/2016  Standard Class    CS-12490   \n",
       "9799  CA-2016-128608   12/1/2016  17/01/2016  Standard Class    CS-12490   \n",
       "\n",
       "        Segment        Country             City       State  Postal Code  \\\n",
       "0      Consumer  United States        Henderson    Kentucky      42420.0   \n",
       "1      Consumer  United States        Henderson    Kentucky      42420.0   \n",
       "2     Corporate  United States      Los Angeles  California      90036.0   \n",
       "3      Consumer  United States  Fort Lauderdale     Florida      33311.0   \n",
       "4      Consumer  United States  Fort Lauderdale     Florida      33311.0   \n",
       "...         ...            ...              ...         ...          ...   \n",
       "9795  Corporate  United States          Chicago    Illinois      60610.0   \n",
       "9796  Corporate  United States           Toledo        Ohio      43615.0   \n",
       "9797  Corporate  United States           Toledo        Ohio      43615.0   \n",
       "9798  Corporate  United States           Toledo        Ohio      43615.0   \n",
       "9799  Corporate  United States           Toledo        Ohio      43615.0   \n",
       "\n",
       "       Region       Product ID         Category Sub-Category  \\\n",
       "0       South  FUR-BO-10001798        Furniture    Bookcases   \n",
       "1       South  FUR-CH-10000454        Furniture       Chairs   \n",
       "2        West  OFF-LA-10000240  Office Supplies       Labels   \n",
       "3       South  FUR-TA-10000577        Furniture       Tables   \n",
       "4       South  OFF-ST-10000760  Office Supplies      Storage   \n",
       "...       ...              ...              ...          ...   \n",
       "9795  Central  OFF-BI-10003429  Office Supplies      Binders   \n",
       "9796     East  OFF-AR-10001374  Office Supplies          Art   \n",
       "9797     East  TEC-PH-10004977       Technology       Phones   \n",
       "9798     East  TEC-PH-10000912       Technology       Phones   \n",
       "9799     East  TEC-AC-10000487       Technology  Accessories   \n",
       "\n",
       "                                           Product Name     Sales  Quantity  \\\n",
       "0                     Bush Somerset Collection Bookcase  261.9600         2   \n",
       "1     Hon Deluxe Fabric Upholstered Stacking Chairs,...  731.9400         3   \n",
       "2     Self-Adhesive Address Labels for Typewriters b...   14.6200         2   \n",
       "3         Bretford CR4500 Series Slim Rectangular Table  957.5775         5   \n",
       "4                        Eldon Fold 'N Roll Cart System   22.3680         2   \n",
       "...                                                 ...       ...       ...   \n",
       "9795  Cardinal HOLDit! Binder Insert Strips,Extra St...    3.7980         3   \n",
       "9796           BIC Brite Liner Highlighters, Chisel Tip   10.3680         2   \n",
       "9797                                        GE 30524EE4  235.1880         2   \n",
       "9798           Anker 24W Portable Micro USB Car Charger   26.3760         4   \n",
       "9799                SanDisk Cruzer 4 GB USB Flash Drive   10.3840         2   \n",
       "\n",
       "      Discount    Profit  \n",
       "0         0.00   41.9136  \n",
       "1         0.00  219.5820  \n",
       "2         0.00    6.8714  \n",
       "3         0.45 -383.0310  \n",
       "4         0.20    2.5164  \n",
       "...        ...       ...  \n",
       "9795      0.80   -5.8869  \n",
       "9796      0.20    1.5552  \n",
       "9797      0.40  -43.1178  \n",
       "9798      0.40    2.6376  \n",
       "9799      0.20    2.2066  \n",
       "\n",
       "[9800 rows x 19 columns]"
      ]
     },
     "execution_count": 121,
     "metadata": {},
     "output_type": "execute_result"
    }
   ],
   "source": [
    "store_df.drop(columns = ['Customer Name', 'Row ID'], inplace=True) #remove 'Customer Name' and 'Row ID' columns from the 'store_df' dataframe\n",
    "store_df"
   ]
  },
  {
   "cell_type": "code",
   "execution_count": 122,
   "id": "2806bbd7-4750-4e5f-8f44-782cd494048f",
   "metadata": {},
   "outputs": [
    {
     "data": {
      "text/plain": [
       "Index(['Order ID', 'Order Date', 'Ship Date', 'Ship Mode', 'Customer ID',\n",
       "       'Segment', 'Country', 'City', 'State', 'Postal Code', 'Region',\n",
       "       'Product ID', 'Category', 'Sub-Category', 'Product Name', 'Sales',\n",
       "       'Quantity', 'Discount', 'Profit'],\n",
       "      dtype='object')"
      ]
     },
     "execution_count": 122,
     "metadata": {},
     "output_type": "execute_result"
    }
   ],
   "source": [
    "store_df.columns #view all the columns, incase we need to rename any"
   ]
  },
  {
   "cell_type": "code",
   "execution_count": 123,
   "id": "71715234-42d5-45de-bbc1-814a23d2c04b",
   "metadata": {},
   "outputs": [
    {
     "name": "stdout",
     "output_type": "stream",
     "text": [
      "<class 'pandas.core.frame.DataFrame'>\n",
      "RangeIndex: 9800 entries, 0 to 9799\n",
      "Data columns (total 19 columns):\n",
      " #   Column        Non-Null Count  Dtype  \n",
      "---  ------        --------------  -----  \n",
      " 0   Order ID      9800 non-null   object \n",
      " 1   Order Date    9800 non-null   object \n",
      " 2   Ship Date     9800 non-null   object \n",
      " 3   Ship Mode     9800 non-null   object \n",
      " 4   Customer ID   9800 non-null   object \n",
      " 5   Segment       9800 non-null   object \n",
      " 6   Country       9800 non-null   object \n",
      " 7   City          9800 non-null   object \n",
      " 8   State         9800 non-null   object \n",
      " 9   Postal Code   9789 non-null   float64\n",
      " 10  Region        9800 non-null   object \n",
      " 11  Product ID    9800 non-null   object \n",
      " 12  Category      9800 non-null   object \n",
      " 13  Sub-Category  9800 non-null   object \n",
      " 14  Product Name  9800 non-null   object \n",
      " 15  Sales         9800 non-null   float64\n",
      " 16  Quantity      9800 non-null   int64  \n",
      " 17  Discount      9800 non-null   float64\n",
      " 18  Profit        9800 non-null   float64\n",
      "dtypes: float64(4), int64(1), object(14)\n",
      "memory usage: 1.4+ MB\n"
     ]
    }
   ],
   "source": [
    "store_df.info() #view information on our dataframe interms of index range and datatype for each column"
   ]
  },
  {
   "cell_type": "code",
   "execution_count": 124,
   "id": "2db788d3-399b-4772-803f-888c4e5f9579",
   "metadata": {},
   "outputs": [
    {
     "data": {
      "text/html": [
       "<div>\n",
       "<style scoped>\n",
       "    .dataframe tbody tr th:only-of-type {\n",
       "        vertical-align: middle;\n",
       "    }\n",
       "\n",
       "    .dataframe tbody tr th {\n",
       "        vertical-align: top;\n",
       "    }\n",
       "\n",
       "    .dataframe thead th {\n",
       "        text-align: right;\n",
       "    }\n",
       "</style>\n",
       "<table border=\"1\" class=\"dataframe\">\n",
       "  <thead>\n",
       "    <tr style=\"text-align: right;\">\n",
       "      <th></th>\n",
       "      <th>Postal Code</th>\n",
       "      <th>Sales</th>\n",
       "      <th>Quantity</th>\n",
       "      <th>Discount</th>\n",
       "      <th>Profit</th>\n",
       "    </tr>\n",
       "  </thead>\n",
       "  <tbody>\n",
       "    <tr>\n",
       "      <th>count</th>\n",
       "      <td>9789.000000</td>\n",
       "      <td>9800.000000</td>\n",
       "      <td>9800.000000</td>\n",
       "      <td>9800.000000</td>\n",
       "      <td>9800.000000</td>\n",
       "    </tr>\n",
       "    <tr>\n",
       "      <th>mean</th>\n",
       "      <td>55273.322403</td>\n",
       "      <td>230.769059</td>\n",
       "      <td>3.790102</td>\n",
       "      <td>0.156798</td>\n",
       "      <td>28.467205</td>\n",
       "    </tr>\n",
       "    <tr>\n",
       "      <th>std</th>\n",
       "      <td>32041.223413</td>\n",
       "      <td>626.651875</td>\n",
       "      <td>2.221237</td>\n",
       "      <td>0.206820</td>\n",
       "      <td>236.011121</td>\n",
       "    </tr>\n",
       "    <tr>\n",
       "      <th>min</th>\n",
       "      <td>1040.000000</td>\n",
       "      <td>0.444000</td>\n",
       "      <td>1.000000</td>\n",
       "      <td>0.000000</td>\n",
       "      <td>-6599.978000</td>\n",
       "    </tr>\n",
       "    <tr>\n",
       "      <th>25%</th>\n",
       "      <td>23223.000000</td>\n",
       "      <td>17.248000</td>\n",
       "      <td>2.000000</td>\n",
       "      <td>0.000000</td>\n",
       "      <td>1.704500</td>\n",
       "    </tr>\n",
       "    <tr>\n",
       "      <th>50%</th>\n",
       "      <td>58103.000000</td>\n",
       "      <td>54.490000</td>\n",
       "      <td>3.000000</td>\n",
       "      <td>0.200000</td>\n",
       "      <td>8.555600</td>\n",
       "    </tr>\n",
       "    <tr>\n",
       "      <th>75%</th>\n",
       "      <td>90008.000000</td>\n",
       "      <td>210.605000</td>\n",
       "      <td>5.000000</td>\n",
       "      <td>0.200000</td>\n",
       "      <td>29.341200</td>\n",
       "    </tr>\n",
       "    <tr>\n",
       "      <th>max</th>\n",
       "      <td>99301.000000</td>\n",
       "      <td>22638.480000</td>\n",
       "      <td>14.000000</td>\n",
       "      <td>0.800000</td>\n",
       "      <td>8399.976000</td>\n",
       "    </tr>\n",
       "  </tbody>\n",
       "</table>\n",
       "</div>"
      ],
      "text/plain": [
       "        Postal Code         Sales     Quantity     Discount       Profit\n",
       "count   9789.000000   9800.000000  9800.000000  9800.000000  9800.000000\n",
       "mean   55273.322403    230.769059     3.790102     0.156798    28.467205\n",
       "std    32041.223413    626.651875     2.221237     0.206820   236.011121\n",
       "min     1040.000000      0.444000     1.000000     0.000000 -6599.978000\n",
       "25%    23223.000000     17.248000     2.000000     0.000000     1.704500\n",
       "50%    58103.000000     54.490000     3.000000     0.200000     8.555600\n",
       "75%    90008.000000    210.605000     5.000000     0.200000    29.341200\n",
       "max    99301.000000  22638.480000    14.000000     0.800000  8399.976000"
      ]
     },
     "execution_count": 124,
     "metadata": {},
     "output_type": "execute_result"
    }
   ],
   "source": [
    "store_df.describe() #statistical description of our dataset"
   ]
  },
  {
   "cell_type": "markdown",
   "id": "a3f11899-8bd2-48b6-b8a3-69bb4a4361d4",
   "metadata": {},
   "source": [
    "#### 2.2.1: Check for any Duplicated Records"
   ]
  },
  {
   "cell_type": "code",
   "execution_count": 125,
   "id": "348d3645-dca3-428e-8795-2aa7143f48b6",
   "metadata": {},
   "outputs": [
    {
     "data": {
      "text/html": [
       "<div>\n",
       "<style scoped>\n",
       "    .dataframe tbody tr th:only-of-type {\n",
       "        vertical-align: middle;\n",
       "    }\n",
       "\n",
       "    .dataframe tbody tr th {\n",
       "        vertical-align: top;\n",
       "    }\n",
       "\n",
       "    .dataframe thead th {\n",
       "        text-align: right;\n",
       "    }\n",
       "</style>\n",
       "<table border=\"1\" class=\"dataframe\">\n",
       "  <thead>\n",
       "    <tr style=\"text-align: right;\">\n",
       "      <th></th>\n",
       "      <th>Order ID</th>\n",
       "      <th>Order Date</th>\n",
       "      <th>Ship Date</th>\n",
       "      <th>Ship Mode</th>\n",
       "      <th>Customer ID</th>\n",
       "      <th>Segment</th>\n",
       "      <th>Country</th>\n",
       "      <th>City</th>\n",
       "      <th>State</th>\n",
       "      <th>Postal Code</th>\n",
       "      <th>Region</th>\n",
       "      <th>Product ID</th>\n",
       "      <th>Category</th>\n",
       "      <th>Sub-Category</th>\n",
       "      <th>Product Name</th>\n",
       "      <th>Sales</th>\n",
       "      <th>Quantity</th>\n",
       "      <th>Discount</th>\n",
       "      <th>Profit</th>\n",
       "    </tr>\n",
       "  </thead>\n",
       "  <tbody>\n",
       "    <tr>\n",
       "      <th>3406</th>\n",
       "      <td>US-2015-150119</td>\n",
       "      <td>23/04/2015</td>\n",
       "      <td>27/04/2015</td>\n",
       "      <td>Standard Class</td>\n",
       "      <td>LB-16795</td>\n",
       "      <td>Home Office</td>\n",
       "      <td>United States</td>\n",
       "      <td>Columbus</td>\n",
       "      <td>Ohio</td>\n",
       "      <td>43229.0</td>\n",
       "      <td>East</td>\n",
       "      <td>FUR-CH-10002965</td>\n",
       "      <td>Furniture</td>\n",
       "      <td>Chairs</td>\n",
       "      <td>Global Leather Highback Executive Chair with P...</td>\n",
       "      <td>281.372</td>\n",
       "      <td>2</td>\n",
       "      <td>0.3</td>\n",
       "      <td>-12.0588</td>\n",
       "    </tr>\n",
       "  </tbody>\n",
       "</table>\n",
       "</div>"
      ],
      "text/plain": [
       "            Order ID  Order Date   Ship Date       Ship Mode Customer ID  \\\n",
       "3406  US-2015-150119  23/04/2015  27/04/2015  Standard Class    LB-16795   \n",
       "\n",
       "          Segment        Country      City State  Postal Code Region  \\\n",
       "3406  Home Office  United States  Columbus  Ohio      43229.0   East   \n",
       "\n",
       "           Product ID   Category Sub-Category  \\\n",
       "3406  FUR-CH-10002965  Furniture       Chairs   \n",
       "\n",
       "                                           Product Name    Sales  Quantity  \\\n",
       "3406  Global Leather Highback Executive Chair with P...  281.372         2   \n",
       "\n",
       "      Discount   Profit  \n",
       "3406       0.3 -12.0588  "
      ]
     },
     "execution_count": 125,
     "metadata": {},
     "output_type": "execute_result"
    }
   ],
   "source": [
    "store_df[store_df.duplicated()]"
   ]
  },
  {
   "cell_type": "markdown",
   "id": "c679c4e5-c740-4d40-a0de-36bde2a630ba",
   "metadata": {},
   "source": [
    "There are no duplicate transactions in our dataset"
   ]
  },
  {
   "cell_type": "markdown",
   "id": "1bf63bc7-5119-4459-9406-e675c94e50fc",
   "metadata": {},
   "source": [
    "#### 2.2.2: Missing Values"
   ]
  },
  {
   "cell_type": "code",
   "execution_count": 126,
   "id": "d08ddcc2-9cbe-4505-b92d-65a63f8e9797",
   "metadata": {},
   "outputs": [
    {
     "data": {
      "text/plain": [
       "Order ID         0\n",
       "Order Date       0\n",
       "Ship Date        0\n",
       "Ship Mode        0\n",
       "Customer ID      0\n",
       "Segment          0\n",
       "Country          0\n",
       "City             0\n",
       "State            0\n",
       "Postal Code     11\n",
       "Region           0\n",
       "Product ID       0\n",
       "Category         0\n",
       "Sub-Category     0\n",
       "Product Name     0\n",
       "Sales            0\n",
       "Quantity         0\n",
       "Discount         0\n",
       "Profit           0\n",
       "dtype: int64"
      ]
     },
     "execution_count": 126,
     "metadata": {},
     "output_type": "execute_result"
    }
   ],
   "source": [
    "store_df.isnull().sum() #confirm for any null entries in the dataframe"
   ]
  },
  {
   "cell_type": "markdown",
   "id": "a56b7b33-c70c-480c-acf4-356d068b6971",
   "metadata": {},
   "source": [
    "the column *'Postal Code'* is the only column with missing data. Luckily data such as Postal Code can easily be retrieved and inserted into the dataframe. Had the missing data been in other columns such as *'Sales'*, *'Quantity'*, *'Discount'* etc, we might be forced to evaluate how to deal with the missing values - whether to drop them all or whether to calculate a value for them based on other available values."
   ]
  },
  {
   "cell_type": "code",
   "execution_count": 127,
   "id": "61022d26-1d09-45b4-b027-afd1a1019c3c",
   "metadata": {},
   "outputs": [
    {
     "data": {
      "text/html": [
       "<div>\n",
       "<style scoped>\n",
       "    .dataframe tbody tr th:only-of-type {\n",
       "        vertical-align: middle;\n",
       "    }\n",
       "\n",
       "    .dataframe tbody tr th {\n",
       "        vertical-align: top;\n",
       "    }\n",
       "\n",
       "    .dataframe thead th {\n",
       "        text-align: right;\n",
       "    }\n",
       "</style>\n",
       "<table border=\"1\" class=\"dataframe\">\n",
       "  <thead>\n",
       "    <tr style=\"text-align: right;\">\n",
       "      <th></th>\n",
       "      <th>Order ID</th>\n",
       "      <th>Order Date</th>\n",
       "      <th>Ship Date</th>\n",
       "      <th>Ship Mode</th>\n",
       "      <th>Customer ID</th>\n",
       "      <th>Segment</th>\n",
       "      <th>Country</th>\n",
       "      <th>City</th>\n",
       "      <th>State</th>\n",
       "      <th>Postal Code</th>\n",
       "      <th>Region</th>\n",
       "      <th>Product ID</th>\n",
       "      <th>Category</th>\n",
       "      <th>Sub-Category</th>\n",
       "      <th>Product Name</th>\n",
       "      <th>Sales</th>\n",
       "      <th>Quantity</th>\n",
       "      <th>Discount</th>\n",
       "      <th>Profit</th>\n",
       "    </tr>\n",
       "  </thead>\n",
       "  <tbody>\n",
       "    <tr>\n",
       "      <th>2234</th>\n",
       "      <td>CA-2018-104066</td>\n",
       "      <td>5/12/2018</td>\n",
       "      <td>10/12/2018</td>\n",
       "      <td>Standard Class</td>\n",
       "      <td>QJ-19255</td>\n",
       "      <td>Corporate</td>\n",
       "      <td>United States</td>\n",
       "      <td>Burlington</td>\n",
       "      <td>Vermont</td>\n",
       "      <td>NaN</td>\n",
       "      <td>East</td>\n",
       "      <td>TEC-AC-10001013</td>\n",
       "      <td>Technology</td>\n",
       "      <td>Accessories</td>\n",
       "      <td>Logitech ClearChat Comfort/USB Headset H390</td>\n",
       "      <td>205.03</td>\n",
       "      <td>7</td>\n",
       "      <td>0.0</td>\n",
       "      <td>67.6599</td>\n",
       "    </tr>\n",
       "    <tr>\n",
       "      <th>5274</th>\n",
       "      <td>CA-2016-162887</td>\n",
       "      <td>7/11/2016</td>\n",
       "      <td>9/11/2016</td>\n",
       "      <td>Second Class</td>\n",
       "      <td>SV-20785</td>\n",
       "      <td>Consumer</td>\n",
       "      <td>United States</td>\n",
       "      <td>Burlington</td>\n",
       "      <td>Vermont</td>\n",
       "      <td>NaN</td>\n",
       "      <td>East</td>\n",
       "      <td>FUR-CH-10000595</td>\n",
       "      <td>Furniture</td>\n",
       "      <td>Chairs</td>\n",
       "      <td>Safco Contoured Stacking Chairs</td>\n",
       "      <td>715.20</td>\n",
       "      <td>3</td>\n",
       "      <td>0.0</td>\n",
       "      <td>178.8000</td>\n",
       "    </tr>\n",
       "    <tr>\n",
       "      <th>8798</th>\n",
       "      <td>US-2017-150140</td>\n",
       "      <td>6/4/2017</td>\n",
       "      <td>10/4/2017</td>\n",
       "      <td>Standard Class</td>\n",
       "      <td>VM-21685</td>\n",
       "      <td>Home Office</td>\n",
       "      <td>United States</td>\n",
       "      <td>Burlington</td>\n",
       "      <td>Vermont</td>\n",
       "      <td>NaN</td>\n",
       "      <td>East</td>\n",
       "      <td>TEC-PH-10002555</td>\n",
       "      <td>Technology</td>\n",
       "      <td>Phones</td>\n",
       "      <td>Nortel Meridian M5316 Digital phone</td>\n",
       "      <td>1294.75</td>\n",
       "      <td>5</td>\n",
       "      <td>0.0</td>\n",
       "      <td>336.6350</td>\n",
       "    </tr>\n",
       "    <tr>\n",
       "      <th>9146</th>\n",
       "      <td>US-2017-165505</td>\n",
       "      <td>23/01/2017</td>\n",
       "      <td>27/01/2017</td>\n",
       "      <td>Standard Class</td>\n",
       "      <td>CB-12535</td>\n",
       "      <td>Corporate</td>\n",
       "      <td>United States</td>\n",
       "      <td>Burlington</td>\n",
       "      <td>Vermont</td>\n",
       "      <td>NaN</td>\n",
       "      <td>East</td>\n",
       "      <td>TEC-AC-10002926</td>\n",
       "      <td>Technology</td>\n",
       "      <td>Accessories</td>\n",
       "      <td>Logitech Wireless Marathon Mouse M705</td>\n",
       "      <td>99.98</td>\n",
       "      <td>2</td>\n",
       "      <td>0.0</td>\n",
       "      <td>42.9914</td>\n",
       "    </tr>\n",
       "    <tr>\n",
       "      <th>9147</th>\n",
       "      <td>US-2017-165505</td>\n",
       "      <td>23/01/2017</td>\n",
       "      <td>27/01/2017</td>\n",
       "      <td>Standard Class</td>\n",
       "      <td>CB-12535</td>\n",
       "      <td>Corporate</td>\n",
       "      <td>United States</td>\n",
       "      <td>Burlington</td>\n",
       "      <td>Vermont</td>\n",
       "      <td>NaN</td>\n",
       "      <td>East</td>\n",
       "      <td>OFF-AR-10003477</td>\n",
       "      <td>Office Supplies</td>\n",
       "      <td>Art</td>\n",
       "      <td>4009 Highlighters</td>\n",
       "      <td>8.04</td>\n",
       "      <td>6</td>\n",
       "      <td>0.0</td>\n",
       "      <td>2.7336</td>\n",
       "    </tr>\n",
       "    <tr>\n",
       "      <th>9148</th>\n",
       "      <td>US-2017-165505</td>\n",
       "      <td>23/01/2017</td>\n",
       "      <td>27/01/2017</td>\n",
       "      <td>Standard Class</td>\n",
       "      <td>CB-12535</td>\n",
       "      <td>Corporate</td>\n",
       "      <td>United States</td>\n",
       "      <td>Burlington</td>\n",
       "      <td>Vermont</td>\n",
       "      <td>NaN</td>\n",
       "      <td>East</td>\n",
       "      <td>OFF-ST-10001526</td>\n",
       "      <td>Office Supplies</td>\n",
       "      <td>Storage</td>\n",
       "      <td>Iceberg Mobile Mega Data/Printer Cart</td>\n",
       "      <td>1564.29</td>\n",
       "      <td>13</td>\n",
       "      <td>0.0</td>\n",
       "      <td>406.7154</td>\n",
       "    </tr>\n",
       "    <tr>\n",
       "      <th>9386</th>\n",
       "      <td>US-2018-127292</td>\n",
       "      <td>19/01/2018</td>\n",
       "      <td>23/01/2018</td>\n",
       "      <td>Standard Class</td>\n",
       "      <td>RM-19375</td>\n",
       "      <td>Consumer</td>\n",
       "      <td>United States</td>\n",
       "      <td>Burlington</td>\n",
       "      <td>Vermont</td>\n",
       "      <td>NaN</td>\n",
       "      <td>East</td>\n",
       "      <td>OFF-PA-10000157</td>\n",
       "      <td>Office Supplies</td>\n",
       "      <td>Paper</td>\n",
       "      <td>Xerox 191</td>\n",
       "      <td>79.92</td>\n",
       "      <td>4</td>\n",
       "      <td>0.0</td>\n",
       "      <td>37.5624</td>\n",
       "    </tr>\n",
       "    <tr>\n",
       "      <th>9387</th>\n",
       "      <td>US-2018-127292</td>\n",
       "      <td>19/01/2018</td>\n",
       "      <td>23/01/2018</td>\n",
       "      <td>Standard Class</td>\n",
       "      <td>RM-19375</td>\n",
       "      <td>Consumer</td>\n",
       "      <td>United States</td>\n",
       "      <td>Burlington</td>\n",
       "      <td>Vermont</td>\n",
       "      <td>NaN</td>\n",
       "      <td>East</td>\n",
       "      <td>OFF-PA-10001970</td>\n",
       "      <td>Office Supplies</td>\n",
       "      <td>Paper</td>\n",
       "      <td>Xerox 1881</td>\n",
       "      <td>12.28</td>\n",
       "      <td>1</td>\n",
       "      <td>0.0</td>\n",
       "      <td>5.7716</td>\n",
       "    </tr>\n",
       "    <tr>\n",
       "      <th>9388</th>\n",
       "      <td>US-2018-127292</td>\n",
       "      <td>19/01/2018</td>\n",
       "      <td>23/01/2018</td>\n",
       "      <td>Standard Class</td>\n",
       "      <td>RM-19375</td>\n",
       "      <td>Consumer</td>\n",
       "      <td>United States</td>\n",
       "      <td>Burlington</td>\n",
       "      <td>Vermont</td>\n",
       "      <td>NaN</td>\n",
       "      <td>East</td>\n",
       "      <td>OFF-AP-10000828</td>\n",
       "      <td>Office Supplies</td>\n",
       "      <td>Appliances</td>\n",
       "      <td>Avanti 4.4 Cu. Ft. Refrigerator</td>\n",
       "      <td>542.94</td>\n",
       "      <td>3</td>\n",
       "      <td>0.0</td>\n",
       "      <td>152.0232</td>\n",
       "    </tr>\n",
       "    <tr>\n",
       "      <th>9389</th>\n",
       "      <td>US-2018-127292</td>\n",
       "      <td>19/01/2018</td>\n",
       "      <td>23/01/2018</td>\n",
       "      <td>Standard Class</td>\n",
       "      <td>RM-19375</td>\n",
       "      <td>Consumer</td>\n",
       "      <td>United States</td>\n",
       "      <td>Burlington</td>\n",
       "      <td>Vermont</td>\n",
       "      <td>NaN</td>\n",
       "      <td>East</td>\n",
       "      <td>OFF-EN-10001509</td>\n",
       "      <td>Office Supplies</td>\n",
       "      <td>Envelopes</td>\n",
       "      <td>Poly String Tie Envelopes</td>\n",
       "      <td>2.04</td>\n",
       "      <td>1</td>\n",
       "      <td>0.0</td>\n",
       "      <td>0.9588</td>\n",
       "    </tr>\n",
       "    <tr>\n",
       "      <th>9741</th>\n",
       "      <td>CA-2016-117086</td>\n",
       "      <td>8/11/2016</td>\n",
       "      <td>12/11/2016</td>\n",
       "      <td>Standard Class</td>\n",
       "      <td>QJ-19255</td>\n",
       "      <td>Corporate</td>\n",
       "      <td>United States</td>\n",
       "      <td>Burlington</td>\n",
       "      <td>Vermont</td>\n",
       "      <td>NaN</td>\n",
       "      <td>East</td>\n",
       "      <td>FUR-BO-10004834</td>\n",
       "      <td>Furniture</td>\n",
       "      <td>Bookcases</td>\n",
       "      <td>Riverside Palais Royal Lawyers Bookcase, Royal...</td>\n",
       "      <td>4404.90</td>\n",
       "      <td>5</td>\n",
       "      <td>0.0</td>\n",
       "      <td>1013.1270</td>\n",
       "    </tr>\n",
       "  </tbody>\n",
       "</table>\n",
       "</div>"
      ],
      "text/plain": [
       "            Order ID  Order Date   Ship Date       Ship Mode Customer ID  \\\n",
       "2234  CA-2018-104066   5/12/2018  10/12/2018  Standard Class    QJ-19255   \n",
       "5274  CA-2016-162887   7/11/2016   9/11/2016    Second Class    SV-20785   \n",
       "8798  US-2017-150140    6/4/2017   10/4/2017  Standard Class    VM-21685   \n",
       "9146  US-2017-165505  23/01/2017  27/01/2017  Standard Class    CB-12535   \n",
       "9147  US-2017-165505  23/01/2017  27/01/2017  Standard Class    CB-12535   \n",
       "9148  US-2017-165505  23/01/2017  27/01/2017  Standard Class    CB-12535   \n",
       "9386  US-2018-127292  19/01/2018  23/01/2018  Standard Class    RM-19375   \n",
       "9387  US-2018-127292  19/01/2018  23/01/2018  Standard Class    RM-19375   \n",
       "9388  US-2018-127292  19/01/2018  23/01/2018  Standard Class    RM-19375   \n",
       "9389  US-2018-127292  19/01/2018  23/01/2018  Standard Class    RM-19375   \n",
       "9741  CA-2016-117086   8/11/2016  12/11/2016  Standard Class    QJ-19255   \n",
       "\n",
       "          Segment        Country        City    State  Postal Code Region  \\\n",
       "2234    Corporate  United States  Burlington  Vermont          NaN   East   \n",
       "5274     Consumer  United States  Burlington  Vermont          NaN   East   \n",
       "8798  Home Office  United States  Burlington  Vermont          NaN   East   \n",
       "9146    Corporate  United States  Burlington  Vermont          NaN   East   \n",
       "9147    Corporate  United States  Burlington  Vermont          NaN   East   \n",
       "9148    Corporate  United States  Burlington  Vermont          NaN   East   \n",
       "9386     Consumer  United States  Burlington  Vermont          NaN   East   \n",
       "9387     Consumer  United States  Burlington  Vermont          NaN   East   \n",
       "9388     Consumer  United States  Burlington  Vermont          NaN   East   \n",
       "9389     Consumer  United States  Burlington  Vermont          NaN   East   \n",
       "9741    Corporate  United States  Burlington  Vermont          NaN   East   \n",
       "\n",
       "           Product ID         Category Sub-Category  \\\n",
       "2234  TEC-AC-10001013       Technology  Accessories   \n",
       "5274  FUR-CH-10000595        Furniture       Chairs   \n",
       "8798  TEC-PH-10002555       Technology       Phones   \n",
       "9146  TEC-AC-10002926       Technology  Accessories   \n",
       "9147  OFF-AR-10003477  Office Supplies          Art   \n",
       "9148  OFF-ST-10001526  Office Supplies      Storage   \n",
       "9386  OFF-PA-10000157  Office Supplies        Paper   \n",
       "9387  OFF-PA-10001970  Office Supplies        Paper   \n",
       "9388  OFF-AP-10000828  Office Supplies   Appliances   \n",
       "9389  OFF-EN-10001509  Office Supplies    Envelopes   \n",
       "9741  FUR-BO-10004834        Furniture    Bookcases   \n",
       "\n",
       "                                           Product Name    Sales  Quantity  \\\n",
       "2234        Logitech ClearChat Comfort/USB Headset H390   205.03         7   \n",
       "5274                    Safco Contoured Stacking Chairs   715.20         3   \n",
       "8798                Nortel Meridian M5316 Digital phone  1294.75         5   \n",
       "9146              Logitech Wireless Marathon Mouse M705    99.98         2   \n",
       "9147                                  4009 Highlighters     8.04         6   \n",
       "9148              Iceberg Mobile Mega Data/Printer Cart  1564.29        13   \n",
       "9386                                          Xerox 191    79.92         4   \n",
       "9387                                         Xerox 1881    12.28         1   \n",
       "9388                    Avanti 4.4 Cu. Ft. Refrigerator   542.94         3   \n",
       "9389                          Poly String Tie Envelopes     2.04         1   \n",
       "9741  Riverside Palais Royal Lawyers Bookcase, Royal...  4404.90         5   \n",
       "\n",
       "      Discount     Profit  \n",
       "2234       0.0    67.6599  \n",
       "5274       0.0   178.8000  \n",
       "8798       0.0   336.6350  \n",
       "9146       0.0    42.9914  \n",
       "9147       0.0     2.7336  \n",
       "9148       0.0   406.7154  \n",
       "9386       0.0    37.5624  \n",
       "9387       0.0     5.7716  \n",
       "9388       0.0   152.0232  \n",
       "9389       0.0     0.9588  \n",
       "9741       0.0  1013.1270  "
      ]
     },
     "execution_count": 127,
     "metadata": {},
     "output_type": "execute_result"
    }
   ],
   "source": [
    "store_df[store_df['Postal Code'].isnull()] #to find the specific missing Postal Codes"
   ]
  },
  {
   "cell_type": "markdown",
   "id": "4dd0c462-c14d-47b2-8dcf-7426d5f3ed7a",
   "metadata": {},
   "source": [
    "All the missing Postal Codes are for 'Burlington' City in Vermont state. We can easily search for that, and inserted into our dataframe using the .fillna() method"
   ]
  },
  {
   "cell_type": "code",
   "execution_count": 128,
   "id": "f5f6978c-830a-4902-847a-d023acf3c7cc",
   "metadata": {},
   "outputs": [
    {
     "data": {
      "text/plain": [
       "Order ID        0\n",
       "Order Date      0\n",
       "Ship Date       0\n",
       "Ship Mode       0\n",
       "Customer ID     0\n",
       "Segment         0\n",
       "Country         0\n",
       "City            0\n",
       "State           0\n",
       "Postal Code     0\n",
       "Region          0\n",
       "Product ID      0\n",
       "Category        0\n",
       "Sub-Category    0\n",
       "Product Name    0\n",
       "Sales           0\n",
       "Quantity        0\n",
       "Discount        0\n",
       "Profit          0\n",
       "dtype: int64"
      ]
     },
     "execution_count": 128,
     "metadata": {},
     "output_type": "execute_result"
    }
   ],
   "source": [
    "store_df['Postal Code'] = store_df['Postal Code'].fillna(5401) #5401 is the Postal Code for Burlington City\n",
    "store_df.isnull().sum() #check to see if null values are still present in the dataframe"
   ]
  },
  {
   "cell_type": "markdown",
   "id": "352b0f09-1652-4d18-89b9-08ce02f42646",
   "metadata": {},
   "source": [
    "### 2.2.3: Sorting Data Based On Order Date"
   ]
  },
  {
   "cell_type": "code",
   "execution_count": 129,
   "id": "d36e69fc-5eb3-4d4a-bb58-388f47b99b00",
   "metadata": {},
   "outputs": [
    {
     "data": {
      "text/html": [
       "<div>\n",
       "<style scoped>\n",
       "    .dataframe tbody tr th:only-of-type {\n",
       "        vertical-align: middle;\n",
       "    }\n",
       "\n",
       "    .dataframe tbody tr th {\n",
       "        vertical-align: top;\n",
       "    }\n",
       "\n",
       "    .dataframe thead th {\n",
       "        text-align: right;\n",
       "    }\n",
       "</style>\n",
       "<table border=\"1\" class=\"dataframe\">\n",
       "  <thead>\n",
       "    <tr style=\"text-align: right;\">\n",
       "      <th></th>\n",
       "      <th>Order ID</th>\n",
       "      <th>Order Date</th>\n",
       "      <th>Ship Date</th>\n",
       "      <th>Ship Mode</th>\n",
       "      <th>Customer ID</th>\n",
       "      <th>Segment</th>\n",
       "      <th>Country</th>\n",
       "      <th>City</th>\n",
       "      <th>State</th>\n",
       "      <th>Postal Code</th>\n",
       "      <th>Region</th>\n",
       "      <th>Product ID</th>\n",
       "      <th>Category</th>\n",
       "      <th>Sub-Category</th>\n",
       "      <th>Product Name</th>\n",
       "      <th>Sales</th>\n",
       "      <th>Quantity</th>\n",
       "      <th>Discount</th>\n",
       "      <th>Profit</th>\n",
       "    </tr>\n",
       "  </thead>\n",
       "  <tbody>\n",
       "    <tr>\n",
       "      <th>540</th>\n",
       "      <td>CA-2015-140795</td>\n",
       "      <td>2015-01-02</td>\n",
       "      <td>3/2/2015</td>\n",
       "      <td>First Class</td>\n",
       "      <td>BD-11500</td>\n",
       "      <td>Consumer</td>\n",
       "      <td>United States</td>\n",
       "      <td>Green Bay</td>\n",
       "      <td>Wisconsin</td>\n",
       "      <td>54302.0</td>\n",
       "      <td>Central</td>\n",
       "      <td>TEC-AC-10001432</td>\n",
       "      <td>Technology</td>\n",
       "      <td>Accessories</td>\n",
       "      <td>Enermax Aurora Lite Keyboard</td>\n",
       "      <td>468.900</td>\n",
       "      <td>6</td>\n",
       "      <td>0.0</td>\n",
       "      <td>206.3160</td>\n",
       "    </tr>\n",
       "    <tr>\n",
       "      <th>5713</th>\n",
       "      <td>US-2015-143707</td>\n",
       "      <td>2015-01-03</td>\n",
       "      <td>5/3/2015</td>\n",
       "      <td>Standard Class</td>\n",
       "      <td>HR-14770</td>\n",
       "      <td>Home Office</td>\n",
       "      <td>United States</td>\n",
       "      <td>New York City</td>\n",
       "      <td>New York</td>\n",
       "      <td>10035.0</td>\n",
       "      <td>East</td>\n",
       "      <td>TEC-PH-10003655</td>\n",
       "      <td>Technology</td>\n",
       "      <td>Phones</td>\n",
       "      <td>Sannysis Cute Owl Design Soft Skin Case Cover ...</td>\n",
       "      <td>5.940</td>\n",
       "      <td>3</td>\n",
       "      <td>0.0</td>\n",
       "      <td>1.6038</td>\n",
       "    </tr>\n",
       "    <tr>\n",
       "      <th>157</th>\n",
       "      <td>CA-2015-104269</td>\n",
       "      <td>2015-01-03</td>\n",
       "      <td>6/3/2015</td>\n",
       "      <td>Second Class</td>\n",
       "      <td>DB-13060</td>\n",
       "      <td>Consumer</td>\n",
       "      <td>United States</td>\n",
       "      <td>Seattle</td>\n",
       "      <td>Washington</td>\n",
       "      <td>98115.0</td>\n",
       "      <td>West</td>\n",
       "      <td>FUR-CH-10004063</td>\n",
       "      <td>Furniture</td>\n",
       "      <td>Chairs</td>\n",
       "      <td>Global Deluxe High-Back Manager's Chair</td>\n",
       "      <td>457.568</td>\n",
       "      <td>2</td>\n",
       "      <td>0.2</td>\n",
       "      <td>51.4764</td>\n",
       "    </tr>\n",
       "    <tr>\n",
       "      <th>6548</th>\n",
       "      <td>CA-2015-113880</td>\n",
       "      <td>2015-01-03</td>\n",
       "      <td>5/3/2015</td>\n",
       "      <td>Standard Class</td>\n",
       "      <td>VF-21715</td>\n",
       "      <td>Home Office</td>\n",
       "      <td>United States</td>\n",
       "      <td>Elmhurst</td>\n",
       "      <td>Illinois</td>\n",
       "      <td>60126.0</td>\n",
       "      <td>Central</td>\n",
       "      <td>OFF-PA-10003036</td>\n",
       "      <td>Office Supplies</td>\n",
       "      <td>Paper</td>\n",
       "      <td>Black Print Carbonless 8 1/2\" x 8 1/4\" Rapid M...</td>\n",
       "      <td>17.472</td>\n",
       "      <td>3</td>\n",
       "      <td>0.2</td>\n",
       "      <td>5.6784</td>\n",
       "    </tr>\n",
       "    <tr>\n",
       "      <th>7949</th>\n",
       "      <td>CA-2015-131009</td>\n",
       "      <td>2015-01-03</td>\n",
       "      <td>5/3/2015</td>\n",
       "      <td>Standard Class</td>\n",
       "      <td>SC-20380</td>\n",
       "      <td>Consumer</td>\n",
       "      <td>United States</td>\n",
       "      <td>El Paso</td>\n",
       "      <td>Texas</td>\n",
       "      <td>79907.0</td>\n",
       "      <td>Central</td>\n",
       "      <td>FUR-FU-10001095</td>\n",
       "      <td>Furniture</td>\n",
       "      <td>Furnishings</td>\n",
       "      <td>DAX Black Cherry Wood-Tone Poster Frame</td>\n",
       "      <td>63.552</td>\n",
       "      <td>6</td>\n",
       "      <td>0.6</td>\n",
       "      <td>-34.9536</td>\n",
       "    </tr>\n",
       "  </tbody>\n",
       "</table>\n",
       "</div>"
      ],
      "text/plain": [
       "            Order ID Order Date Ship Date       Ship Mode Customer ID  \\\n",
       "540   CA-2015-140795 2015-01-02  3/2/2015     First Class    BD-11500   \n",
       "5713  US-2015-143707 2015-01-03  5/3/2015  Standard Class    HR-14770   \n",
       "157   CA-2015-104269 2015-01-03  6/3/2015    Second Class    DB-13060   \n",
       "6548  CA-2015-113880 2015-01-03  5/3/2015  Standard Class    VF-21715   \n",
       "7949  CA-2015-131009 2015-01-03  5/3/2015  Standard Class    SC-20380   \n",
       "\n",
       "          Segment        Country           City       State  Postal Code  \\\n",
       "540      Consumer  United States      Green Bay   Wisconsin      54302.0   \n",
       "5713  Home Office  United States  New York City    New York      10035.0   \n",
       "157      Consumer  United States        Seattle  Washington      98115.0   \n",
       "6548  Home Office  United States       Elmhurst    Illinois      60126.0   \n",
       "7949     Consumer  United States        El Paso       Texas      79907.0   \n",
       "\n",
       "       Region       Product ID         Category Sub-Category  \\\n",
       "540   Central  TEC-AC-10001432       Technology  Accessories   \n",
       "5713     East  TEC-PH-10003655       Technology       Phones   \n",
       "157      West  FUR-CH-10004063        Furniture       Chairs   \n",
       "6548  Central  OFF-PA-10003036  Office Supplies        Paper   \n",
       "7949  Central  FUR-FU-10001095        Furniture  Furnishings   \n",
       "\n",
       "                                           Product Name    Sales  Quantity  \\\n",
       "540                        Enermax Aurora Lite Keyboard  468.900         6   \n",
       "5713  Sannysis Cute Owl Design Soft Skin Case Cover ...    5.940         3   \n",
       "157             Global Deluxe High-Back Manager's Chair  457.568         2   \n",
       "6548  Black Print Carbonless 8 1/2\" x 8 1/4\" Rapid M...   17.472         3   \n",
       "7949            DAX Black Cherry Wood-Tone Poster Frame   63.552         6   \n",
       "\n",
       "      Discount    Profit  \n",
       "540        0.0  206.3160  \n",
       "5713       0.0    1.6038  \n",
       "157        0.2   51.4764  \n",
       "6548       0.2    5.6784  \n",
       "7949       0.6  -34.9536  "
      ]
     },
     "execution_count": 129,
     "metadata": {},
     "output_type": "execute_result"
    }
   ],
   "source": [
    "store_df['Order Date'] = pd.to_datetime(store_df['Order Date']) #changing datatype format to datetime instead of an object\n",
    "store_df.sort_values(by=['Order Date'], ascending=True, inplace=True)\n",
    "store_df.head(5)"
   ]
  },
  {
   "cell_type": "markdown",
   "id": "0b81c718-32d1-4509-8d8e-78f6c16ccb8f",
   "metadata": {},
   "source": [
    "#### 2.2.4: What Do They Sell?"
   ]
  },
  {
   "cell_type": "code",
   "execution_count": 130,
   "id": "d5718881-a263-46c3-af7c-16d50a20deb8",
   "metadata": {},
   "outputs": [
    {
     "name": "stdout",
     "output_type": "stream",
     "text": [
      "['Technology' 'Furniture' 'Office Supplies']\n"
     ]
    }
   ],
   "source": [
    "print(store_df['Category'].unique()) #check the categories of products sold by the store"
   ]
  },
  {
   "cell_type": "markdown",
   "id": "7c40c805-bc7b-471e-a4b6-4047e40b0b24",
   "metadata": {},
   "source": [
    "The Stores product fall into 3 Categories"
   ]
  },
  {
   "cell_type": "code",
   "execution_count": 131,
   "id": "80505843-287b-4777-b472-13db4e805346",
   "metadata": {},
   "outputs": [
    {
     "name": "stdout",
     "output_type": "stream",
     "text": [
      "['Accessories' 'Phones' 'Chairs' 'Paper' 'Furnishings' 'Storage' 'Tables'\n",
      " 'Fasteners' 'Binders' 'Labels' 'Appliances' 'Art' 'Copiers' 'Bookcases'\n",
      " 'Envelopes' 'Machines' 'Supplies']\n"
     ]
    }
   ],
   "source": [
    "print(store_df['Sub-Category'].unique()) #sub-categories of products sold"
   ]
  },
  {
   "cell_type": "markdown",
   "id": "32619815-4fc6-4a94-b0ab-0a90288df846",
   "metadata": {},
   "source": [
    "Later we will dive into analysis these interms of quantities and revenue generated"
   ]
  },
  {
   "cell_type": "markdown",
   "id": "ab3ead4a-3001-45db-80cf-299e64a520ed",
   "metadata": {},
   "source": [
    "#### 2.2.5: Who Do They Sell To?"
   ]
  },
  {
   "cell_type": "code",
   "execution_count": 132,
   "id": "cca27db1-6ed2-424a-aed2-f7e28649406d",
   "metadata": {},
   "outputs": [
    {
     "name": "stdout",
     "output_type": "stream",
     "text": [
      "['Consumer' 'Home Office' 'Corporate']\n"
     ]
    }
   ],
   "source": [
    "print(store_df['Segment'].unique())"
   ]
  },
  {
   "cell_type": "code",
   "execution_count": 133,
   "id": "32a68cbb-7d92-4093-83ce-6db138368996",
   "metadata": {},
   "outputs": [
    {
     "data": {
      "text/plain": [
       "Consumer       5101\n",
       "Corporate      2953\n",
       "Home Office    1746\n",
       "Name: Segment, dtype: int64"
      ]
     },
     "execution_count": 133,
     "metadata": {},
     "output_type": "execute_result"
    }
   ],
   "source": [
    "store_df['Segment'].value_counts()"
   ]
  },
  {
   "cell_type": "markdown",
   "id": "9b5832a3-5090-4a1f-9a7b-97b223a0b340",
   "metadata": {},
   "source": [
    "#### 2.2.6: Where Do They Sell?"
   ]
  },
  {
   "cell_type": "code",
   "execution_count": 134,
   "id": "20c9d633-17f1-4cc1-81d7-f4620f13cadd",
   "metadata": {},
   "outputs": [
    {
     "data": {
      "text/plain": [
       "49"
      ]
     },
     "execution_count": 134,
     "metadata": {},
     "output_type": "execute_result"
    }
   ],
   "source": [
    "store_df['State'].nunique()"
   ]
  },
  {
   "cell_type": "markdown",
   "id": "e1d0cdde-9b9b-4521-b182-5b41153b23a6",
   "metadata": {},
   "source": [
    "Let's visualize these States"
   ]
  },
  {
   "cell_type": "code",
   "execution_count": 135,
   "id": "1c886974-0e53-4c25-8efd-c7fd285e409e",
   "metadata": {},
   "outputs": [
    {
     "data": {
      "text/plain": [
       "<AxesSubplot: title={'center': 'SuperStore - States Sold To Over The Review Period: 2015 - 2019'}, xlabel='State', ylabel='count'>"
      ]
     },
     "execution_count": 135,
     "metadata": {},
     "output_type": "execute_result"
    },
    {
     "data": {
      "image/png": "[encoded data removed]",
      "text/plain": [
       "<Figure size 1800x360 with 1 Axes>"
      ]
     },
     "metadata": {
      "needs_background": "light"
     },
     "output_type": "display_data"
    }
   ],
   "source": [
    "plt.figure(figsize=(25,5)) #size of our plot\n",
    "plt.title('SuperStore - States Sold To Over The Review Period: 2015 - 2019', fontsize=12, fontweight='bold') #plot title\n",
    "plt.xticks(rotation='vertical') #orientation of the State names on the x-axis\n",
    "sns.countplot(x=store_df['State']) #what to plot"
   ]
  },
  {
   "cell_type": "markdown",
   "id": "6c7c9f75-20af-4eda-9416-2e48074bf3d1",
   "metadata": {},
   "source": [
    "With this we can already see which states seem to have more order coming from them and which have less. For example, it is visible that most of products have been sold to the States of California and New York; while less sales have gone to Wyoming and West Virginia States."
   ]
  },
  {
   "cell_type": "code",
   "execution_count": 136,
   "id": "da3b93b9-b9bb-482e-8d0b-5ef6f62fa814",
   "metadata": {},
   "outputs": [
    {
     "data": {
      "text/plain": [
       "4"
      ]
     },
     "execution_count": 136,
     "metadata": {},
     "output_type": "execute_result"
    }
   ],
   "source": [
    "store_df['Region'].nunique()"
   ]
  },
  {
   "cell_type": "markdown",
   "id": "1935393d-bad7-4059-8a4d-3294ad0e7039",
   "metadata": {},
   "source": [
    "The Store sales its products in 49 states that fall in 4 Regions. Later we will analysis the sales for each state and performance of each of the 4 regions"
   ]
  },
  {
   "cell_type": "markdown",
   "id": "8c639471-6639-4504-9c56-bba2f0c4c1f1",
   "metadata": {},
   "source": [
    "## 3.0: Sales Analysis"
   ]
  },
  {
   "cell_type": "markdown",
   "id": "3eb778f0-4c08-404d-927d-8b8fd751c5a4",
   "metadata": {},
   "source": [
    "In this section we will divide our tasks inorder to query and visualize the following:\n",
    "\n",
    "-  Sales Trends Over Specified Duractions (Years and Months)\n",
    "-  The Store's Top Customers\n",
    "-  Average days taken for Order fullfilment i.e, from Order Date to Ship Date. Is it dependent on Shipping Mode?\n",
    "-  Product Performances\n",
    "-  Sales Based on Cities, Regions, Categories, Sub-Category (City with highest and lowest sales)\n",
    "-  Losses (Profit < 0)\n",
    "-  Correlations between Columns e.g., Discount and Profit among others"
   ]
  },
  {
   "cell_type": "code",
   "execution_count": 137,
   "id": "b452876c-fbb3-42ec-8f3c-853fa3b7c0d4",
   "metadata": {},
   "outputs": [
    {
     "data": {
      "text/plain": [
       "Index(['Order ID', 'Order Date', 'Ship Date', 'Ship Mode', 'Customer ID',\n",
       "       'Segment', 'Country', 'City', 'State', 'Postal Code', 'Region',\n",
       "       'Product ID', 'Category', 'Sub-Category', 'Product Name', 'Sales',\n",
       "       'Quantity', 'Discount', 'Profit'],\n",
       "      dtype='object')"
      ]
     },
     "execution_count": 137,
     "metadata": {},
     "output_type": "execute_result"
    }
   ],
   "source": [
    "store_df.columns #refresh our mind on our dataset's columns"
   ]
  },
  {
   "cell_type": "code",
   "execution_count": 138,
   "id": "eade01c1-d1e5-4bcf-a4eb-2f208f6e8977",
   "metadata": {},
   "outputs": [
    {
     "data": {
      "text/html": [
       "<div>\n",
       "<style scoped>\n",
       "    .dataframe tbody tr th:only-of-type {\n",
       "        vertical-align: middle;\n",
       "    }\n",
       "\n",
       "    .dataframe tbody tr th {\n",
       "        vertical-align: top;\n",
       "    }\n",
       "\n",
       "    .dataframe thead th {\n",
       "        text-align: right;\n",
       "    }\n",
       "</style>\n",
       "<table border=\"1\" class=\"dataframe\">\n",
       "  <thead>\n",
       "    <tr style=\"text-align: right;\">\n",
       "      <th></th>\n",
       "      <th>Order ID</th>\n",
       "      <th>Order Date</th>\n",
       "      <th>Ship Date</th>\n",
       "      <th>Ship Mode</th>\n",
       "      <th>Customer ID</th>\n",
       "      <th>Segment</th>\n",
       "      <th>Country</th>\n",
       "      <th>City</th>\n",
       "      <th>State</th>\n",
       "      <th>Postal Code</th>\n",
       "      <th>Region</th>\n",
       "      <th>Product ID</th>\n",
       "      <th>Category</th>\n",
       "      <th>Sub-Category</th>\n",
       "      <th>Product Name</th>\n",
       "      <th>Sales</th>\n",
       "      <th>Quantity</th>\n",
       "      <th>Discount</th>\n",
       "      <th>Profit</th>\n",
       "    </tr>\n",
       "  </thead>\n",
       "  <tbody>\n",
       "    <tr>\n",
       "      <th>540</th>\n",
       "      <td>CA-2015-140795</td>\n",
       "      <td>2015-01-02</td>\n",
       "      <td>3/2/2015</td>\n",
       "      <td>First Class</td>\n",
       "      <td>BD-11500</td>\n",
       "      <td>Consumer</td>\n",
       "      <td>United States</td>\n",
       "      <td>Green Bay</td>\n",
       "      <td>Wisconsin</td>\n",
       "      <td>54302.0</td>\n",
       "      <td>Central</td>\n",
       "      <td>TEC-AC-10001432</td>\n",
       "      <td>Technology</td>\n",
       "      <td>Accessories</td>\n",
       "      <td>Enermax Aurora Lite Keyboard</td>\n",
       "      <td>468.90</td>\n",
       "      <td>6</td>\n",
       "      <td>0.0</td>\n",
       "      <td>206.3160</td>\n",
       "    </tr>\n",
       "    <tr>\n",
       "      <th>5713</th>\n",
       "      <td>US-2015-143707</td>\n",
       "      <td>2015-01-03</td>\n",
       "      <td>5/3/2015</td>\n",
       "      <td>Standard Class</td>\n",
       "      <td>HR-14770</td>\n",
       "      <td>Home Office</td>\n",
       "      <td>United States</td>\n",
       "      <td>New York City</td>\n",
       "      <td>New York</td>\n",
       "      <td>10035.0</td>\n",
       "      <td>East</td>\n",
       "      <td>TEC-PH-10003655</td>\n",
       "      <td>Technology</td>\n",
       "      <td>Phones</td>\n",
       "      <td>Sannysis Cute Owl Design Soft Skin Case Cover ...</td>\n",
       "      <td>5.94</td>\n",
       "      <td>3</td>\n",
       "      <td>0.0</td>\n",
       "      <td>1.6038</td>\n",
       "    </tr>\n",
       "  </tbody>\n",
       "</table>\n",
       "</div>"
      ],
      "text/plain": [
       "            Order ID Order Date Ship Date       Ship Mode Customer ID  \\\n",
       "540   CA-2015-140795 2015-01-02  3/2/2015     First Class    BD-11500   \n",
       "5713  US-2015-143707 2015-01-03  5/3/2015  Standard Class    HR-14770   \n",
       "\n",
       "          Segment        Country           City      State  Postal Code  \\\n",
       "540      Consumer  United States      Green Bay  Wisconsin      54302.0   \n",
       "5713  Home Office  United States  New York City   New York      10035.0   \n",
       "\n",
       "       Region       Product ID    Category Sub-Category  \\\n",
       "540   Central  TEC-AC-10001432  Technology  Accessories   \n",
       "5713     East  TEC-PH-10003655  Technology       Phones   \n",
       "\n",
       "                                           Product Name   Sales  Quantity  \\\n",
       "540                        Enermax Aurora Lite Keyboard  468.90         6   \n",
       "5713  Sannysis Cute Owl Design Soft Skin Case Cover ...    5.94         3   \n",
       "\n",
       "      Discount    Profit  \n",
       "540        0.0  206.3160  \n",
       "5713       0.0    1.6038  "
      ]
     },
     "execution_count": 138,
     "metadata": {},
     "output_type": "execute_result"
    }
   ],
   "source": [
    "store_df.head(2)"
   ]
  },
  {
   "cell_type": "markdown",
   "id": "73e1bb3f-06a1-4aa1-bdb7-3c51208c42e6",
   "metadata": {},
   "source": [
    "### 3.1: What Duration does our Dataset Fall in?"
   ]
  },
  {
   "cell_type": "markdown",
   "id": "61725e64-d3de-42c9-a9e8-dcd8423ed791",
   "metadata": {},
   "source": [
    "In order to get a better analysis of our date we will need some additional columns:\n",
    "-  Order Year\n",
    "-  Ship Year\n",
    "-  Order Month\n",
    "-  Ship Month\n",
    "-  Day Of Week the Order or Shipping happened\n",
    "\n",
    "Later when querying Order Fullfilment we will also need a column to capture the number of days it takes to fullfil an order (Difference between 'Order Date' and 'Ship Date')."
   ]
  },
  {
   "cell_type": "markdown",
   "id": "e03f4970-eead-42a5-a5f3-42cd90641f70",
   "metadata": {},
   "source": [
    "#### 3.1.1: Getting the Years from the Dates"
   ]
  },
  {
   "cell_type": "markdown",
   "id": "dbd05ef6-d52c-469e-8a0f-193b638883a4",
   "metadata": {},
   "source": [
    "To achieve this we will use the dt.year method. You can also use the dt.strftime ('%Y') method for the same result.\n",
    "Checking back on our dataframe, the datatype for 'Ship Date' is object; we need to change that to datetime datatype as we earlier did with Order Date"
   ]
  },
  {
   "cell_type": "code",
   "execution_count": 139,
   "id": "b21398da-5578-49d0-98d9-9ba2e55dcd78",
   "metadata": {},
   "outputs": [],
   "source": [
    "store_df['Ship Date'] = pd.to_datetime(store_df['Ship Date'])"
   ]
  },
  {
   "cell_type": "code",
   "execution_count": 140,
   "id": "17a1caf1-036a-4418-ba01-c530bfbc552c",
   "metadata": {},
   "outputs": [
    {
     "name": "stdout",
     "output_type": "stream",
     "text": [
      "<class 'pandas.core.frame.DataFrame'>\n",
      "Int64Index: 9800 entries, 540 to 1297\n",
      "Data columns (total 19 columns):\n",
      " #   Column        Non-Null Count  Dtype         \n",
      "---  ------        --------------  -----         \n",
      " 0   Order ID      9800 non-null   object        \n",
      " 1   Order Date    9800 non-null   datetime64[ns]\n",
      " 2   Ship Date     9800 non-null   datetime64[ns]\n",
      " 3   Ship Mode     9800 non-null   object        \n",
      " 4   Customer ID   9800 non-null   object        \n",
      " 5   Segment       9800 non-null   object        \n",
      " 6   Country       9800 non-null   object        \n",
      " 7   City          9800 non-null   object        \n",
      " 8   State         9800 non-null   object        \n",
      " 9   Postal Code   9800 non-null   float64       \n",
      " 10  Region        9800 non-null   object        \n",
      " 11  Product ID    9800 non-null   object        \n",
      " 12  Category      9800 non-null   object        \n",
      " 13  Sub-Category  9800 non-null   object        \n",
      " 14  Product Name  9800 non-null   object        \n",
      " 15  Sales         9800 non-null   float64       \n",
      " 16  Quantity      9800 non-null   int64         \n",
      " 17  Discount      9800 non-null   float64       \n",
      " 18  Profit        9800 non-null   float64       \n",
      "dtypes: datetime64[ns](2), float64(4), int64(1), object(12)\n",
      "memory usage: 1.5+ MB\n"
     ]
    }
   ],
   "source": [
    "store_df.info() #lets check to see if the datatype for the selected columns changed"
   ]
  },
  {
   "cell_type": "code",
   "execution_count": 141,
   "id": "8bab72c2-e10e-417f-a4e0-eb8614d684c5",
   "metadata": {},
   "outputs": [
    {
     "data": {
      "text/html": [
       "<div>\n",
       "<style scoped>\n",
       "    .dataframe tbody tr th:only-of-type {\n",
       "        vertical-align: middle;\n",
       "    }\n",
       "\n",
       "    .dataframe tbody tr th {\n",
       "        vertical-align: top;\n",
       "    }\n",
       "\n",
       "    .dataframe thead th {\n",
       "        text-align: right;\n",
       "    }\n",
       "</style>\n",
       "<table border=\"1\" class=\"dataframe\">\n",
       "  <thead>\n",
       "    <tr style=\"text-align: right;\">\n",
       "      <th></th>\n",
       "      <th>Order ID</th>\n",
       "      <th>Order Date</th>\n",
       "      <th>Ship Date</th>\n",
       "      <th>Ship Mode</th>\n",
       "      <th>Customer ID</th>\n",
       "      <th>Segment</th>\n",
       "      <th>Country</th>\n",
       "      <th>City</th>\n",
       "      <th>State</th>\n",
       "      <th>Postal Code</th>\n",
       "      <th>...</th>\n",
       "      <th>Product ID</th>\n",
       "      <th>Category</th>\n",
       "      <th>Sub-Category</th>\n",
       "      <th>Product Name</th>\n",
       "      <th>Sales</th>\n",
       "      <th>Quantity</th>\n",
       "      <th>Discount</th>\n",
       "      <th>Profit</th>\n",
       "      <th>Order Year</th>\n",
       "      <th>Shipping Year</th>\n",
       "    </tr>\n",
       "  </thead>\n",
       "  <tbody>\n",
       "    <tr>\n",
       "      <th>2470</th>\n",
       "      <td>US-2017-135923</td>\n",
       "      <td>2017-01-22</td>\n",
       "      <td>2017-01-28</td>\n",
       "      <td>Standard Class</td>\n",
       "      <td>CM-11935</td>\n",
       "      <td>Consumer</td>\n",
       "      <td>United States</td>\n",
       "      <td>Fayetteville</td>\n",
       "      <td>North Carolina</td>\n",
       "      <td>28314.0</td>\n",
       "      <td>...</td>\n",
       "      <td>FUR-FU-10002107</td>\n",
       "      <td>Furniture</td>\n",
       "      <td>Furnishings</td>\n",
       "      <td>Eldon Pizzaz Desk Accessories</td>\n",
       "      <td>14.272</td>\n",
       "      <td>8</td>\n",
       "      <td>0.2</td>\n",
       "      <td>4.2816</td>\n",
       "      <td>2017</td>\n",
       "      <td>2017</td>\n",
       "    </tr>\n",
       "    <tr>\n",
       "      <th>8068</th>\n",
       "      <td>US-2016-160563</td>\n",
       "      <td>2016-10-20</td>\n",
       "      <td>2016-10-24</td>\n",
       "      <td>Standard Class</td>\n",
       "      <td>NS-18640</td>\n",
       "      <td>Corporate</td>\n",
       "      <td>United States</td>\n",
       "      <td>San Francisco</td>\n",
       "      <td>California</td>\n",
       "      <td>94109.0</td>\n",
       "      <td>...</td>\n",
       "      <td>FUR-FU-10001731</td>\n",
       "      <td>Furniture</td>\n",
       "      <td>Furnishings</td>\n",
       "      <td>Acrylic Self-Standing Desk Frames</td>\n",
       "      <td>16.020</td>\n",
       "      <td>6</td>\n",
       "      <td>0.0</td>\n",
       "      <td>6.0876</td>\n",
       "      <td>2016</td>\n",
       "      <td>2016</td>\n",
       "    </tr>\n",
       "  </tbody>\n",
       "</table>\n",
       "<p>2 rows × 21 columns</p>\n",
       "</div>"
      ],
      "text/plain": [
       "            Order ID Order Date  Ship Date       Ship Mode Customer ID  \\\n",
       "2470  US-2017-135923 2017-01-22 2017-01-28  Standard Class    CM-11935   \n",
       "8068  US-2016-160563 2016-10-20 2016-10-24  Standard Class    NS-18640   \n",
       "\n",
       "        Segment        Country           City           State  Postal Code  \\\n",
       "2470   Consumer  United States   Fayetteville  North Carolina      28314.0   \n",
       "8068  Corporate  United States  San Francisco      California      94109.0   \n",
       "\n",
       "      ...       Product ID   Category Sub-Category  \\\n",
       "2470  ...  FUR-FU-10002107  Furniture  Furnishings   \n",
       "8068  ...  FUR-FU-10001731  Furniture  Furnishings   \n",
       "\n",
       "                           Product Name   Sales  Quantity  Discount  Profit  \\\n",
       "2470      Eldon Pizzaz Desk Accessories  14.272         8       0.2  4.2816   \n",
       "8068  Acrylic Self-Standing Desk Frames  16.020         6       0.0  6.0876   \n",
       "\n",
       "      Order Year  Shipping Year  \n",
       "2470        2017           2017  \n",
       "8068        2016           2016  \n",
       "\n",
       "[2 rows x 21 columns]"
      ]
     },
     "execution_count": 141,
     "metadata": {},
     "output_type": "execute_result"
    }
   ],
   "source": [
    "store_df['Order Year'] = store_df['Order Date'].dt.year #creates a new column with the value for the Year of the Order\n",
    "store_df['Shipping Year'] = store_df['Ship Date'].dt.year #creates a new column with the value for the Year of the Shipping\n",
    "store_df.sample(2)"
   ]
  },
  {
   "cell_type": "markdown",
   "id": "2590416c-d48b-40a1-8213-5505117bf505",
   "metadata": {},
   "source": [
    "We successfully added 'Order Year' and 'Shipping Year' to our dataframe. \n",
    "This will allow us to later focus on specific years and/or analysis trends over the years.\n",
    "Lets see the years present in our dataframe.\n"
   ]
  },
  {
   "cell_type": "code",
   "execution_count": 142,
   "id": "36242794-fa0f-4914-a20c-c08036901964",
   "metadata": {},
   "outputs": [
    {
     "name": "stdout",
     "output_type": "stream",
     "text": [
      "[2015 2016 2017 2018 2019]\n"
     ]
    }
   ],
   "source": [
    "print(store_df['Shipping Year'].unique()) #using the .unique() method to see the years our dataset spans"
   ]
  },
  {
   "cell_type": "markdown",
   "id": "d0df06be-351d-4973-b61e-b2a06db39a3b",
   "metadata": {},
   "source": [
    "The SuperStore dataset being analysed falls in the years 2015 to 2019"
   ]
  },
  {
   "cell_type": "markdown",
   "id": "25932958-932d-473d-9bf4-2c1549d9591d",
   "metadata": {},
   "source": [
    "Let's proceed to add the months of each order and shipment to our dataframe using the .dt.month_name() method. Alternatively you could use .dt.to_period('M')"
   ]
  },
  {
   "cell_type": "code",
   "execution_count": 143,
   "id": "c3f34ef0-d3f2-4c74-bfb8-affc13b49842",
   "metadata": {},
   "outputs": [],
   "source": [
    "store_df['Order Month'] = store_df['Order Date'].dt.month_name() #new column Order Month\n",
    "store_df['Shipping Month'] = store_df['Order Date'].dt.month_name() #new column Shipping Month\n",
    "store_df[['Sales','Order Month','Order Year']].to_csv(\"data/SalesMonths-Years.csv\") #lets save our new dataset to a csv file but only with the sales, months and year columns\n"
   ]
  },
  {
   "cell_type": "code",
   "execution_count": 144,
   "id": "5cfa228e-1a8d-4092-9460-cd56c0882ebc",
   "metadata": {},
   "outputs": [
    {
     "data": {
      "text/html": [
       "<div>\n",
       "<style scoped>\n",
       "    .dataframe tbody tr th:only-of-type {\n",
       "        vertical-align: middle;\n",
       "    }\n",
       "\n",
       "    .dataframe tbody tr th {\n",
       "        vertical-align: top;\n",
       "    }\n",
       "\n",
       "    .dataframe thead th {\n",
       "        text-align: right;\n",
       "    }\n",
       "</style>\n",
       "<table border=\"1\" class=\"dataframe\">\n",
       "  <thead>\n",
       "    <tr style=\"text-align: right;\">\n",
       "      <th></th>\n",
       "      <th>Order ID</th>\n",
       "      <th>Order Date</th>\n",
       "      <th>Ship Date</th>\n",
       "      <th>Ship Mode</th>\n",
       "      <th>Customer ID</th>\n",
       "      <th>Segment</th>\n",
       "      <th>Country</th>\n",
       "      <th>City</th>\n",
       "      <th>State</th>\n",
       "      <th>Postal Code</th>\n",
       "      <th>...</th>\n",
       "      <th>Sub-Category</th>\n",
       "      <th>Product Name</th>\n",
       "      <th>Sales</th>\n",
       "      <th>Quantity</th>\n",
       "      <th>Discount</th>\n",
       "      <th>Profit</th>\n",
       "      <th>Order Year</th>\n",
       "      <th>Shipping Year</th>\n",
       "      <th>Order Month</th>\n",
       "      <th>Shipping Month</th>\n",
       "    </tr>\n",
       "  </thead>\n",
       "  <tbody>\n",
       "    <tr>\n",
       "      <th>8809</th>\n",
       "      <td>US-2018-110646</td>\n",
       "      <td>2018-10-26</td>\n",
       "      <td>2018-10-31</td>\n",
       "      <td>Standard Class</td>\n",
       "      <td>JF-15190</td>\n",
       "      <td>Consumer</td>\n",
       "      <td>United States</td>\n",
       "      <td>Philadelphia</td>\n",
       "      <td>Pennsylvania</td>\n",
       "      <td>19134.0</td>\n",
       "      <td>...</td>\n",
       "      <td>Labels</td>\n",
       "      <td>Avery 517</td>\n",
       "      <td>14.76</td>\n",
       "      <td>5</td>\n",
       "      <td>0.2</td>\n",
       "      <td>4.9815</td>\n",
       "      <td>2018</td>\n",
       "      <td>2018</td>\n",
       "      <td>October</td>\n",
       "      <td>October</td>\n",
       "    </tr>\n",
       "  </tbody>\n",
       "</table>\n",
       "<p>1 rows × 23 columns</p>\n",
       "</div>"
      ],
      "text/plain": [
       "            Order ID Order Date  Ship Date       Ship Mode Customer ID  \\\n",
       "8809  US-2018-110646 2018-10-26 2018-10-31  Standard Class    JF-15190   \n",
       "\n",
       "       Segment        Country          City         State  Postal Code  ...  \\\n",
       "8809  Consumer  United States  Philadelphia  Pennsylvania      19134.0  ...   \n",
       "\n",
       "     Sub-Category Product Name  Sales Quantity Discount  Profit  Order Year  \\\n",
       "8809       Labels    Avery 517  14.76        5      0.2  4.9815        2018   \n",
       "\n",
       "      Shipping Year  Order Month  Shipping Month  \n",
       "8809           2018      October         October  \n",
       "\n",
       "[1 rows x 23 columns]"
      ]
     },
     "execution_count": 144,
     "metadata": {},
     "output_type": "execute_result"
    }
   ],
   "source": [
    "store_df.sample(1)"
   ]
  },
  {
   "cell_type": "markdown",
   "id": "f3b27c25-842a-4f3a-91e0-5dd767712e9e",
   "metadata": {},
   "source": [
    "#### 3.1.2: Sales Trends Over Specified Duractions (Years and Months)"
   ]
  },
  {
   "cell_type": "markdown",
   "id": "3e9f5e79-c978-410e-99d8-2bfd4e3845b8",
   "metadata": {},
   "source": [
    "The reason behind extracting the Years and Months for each sale is to enable the Store to take note of the sales trends and months when sales were higher and lower, and even attribute internal or external reasons for those. Maybe Sales are higher on festival months, maybe Sales were lower in a specific month of 2018 because of a local or international event that affected Customers' purchases. We can then analysis how the months perform, if there is any pattern and even do a time series analysis and forecast sales. \n",
    "\n",
    "Let's plot some pivot tables of Sales (Number and Total Revenue) for the Months and Year(s)."
   ]
  },
  {
   "cell_type": "code",
   "execution_count": 145,
   "id": "5f7f5b53-4e89-41fb-9431-331e6ef30a9b",
   "metadata": {},
   "outputs": [
    {
     "data": {
      "text/html": [
       "<div>\n",
       "<style scoped>\n",
       "    .dataframe tbody tr th:only-of-type {\n",
       "        vertical-align: middle;\n",
       "    }\n",
       "\n",
       "    .dataframe tbody tr th {\n",
       "        vertical-align: top;\n",
       "    }\n",
       "\n",
       "    .dataframe thead th {\n",
       "        text-align: right;\n",
       "    }\n",
       "</style>\n",
       "<table border=\"1\" class=\"dataframe\">\n",
       "  <thead>\n",
       "    <tr style=\"text-align: right;\">\n",
       "      <th>Order Month</th>\n",
       "      <th>April</th>\n",
       "      <th>August</th>\n",
       "      <th>December</th>\n",
       "      <th>February</th>\n",
       "      <th>January</th>\n",
       "      <th>July</th>\n",
       "      <th>June</th>\n",
       "      <th>March</th>\n",
       "      <th>May</th>\n",
       "      <th>November</th>\n",
       "      <th>October</th>\n",
       "      <th>September</th>\n",
       "      <th>All</th>\n",
       "    </tr>\n",
       "    <tr>\n",
       "      <th>Order Year</th>\n",
       "      <th></th>\n",
       "      <th></th>\n",
       "      <th></th>\n",
       "      <th></th>\n",
       "      <th></th>\n",
       "      <th></th>\n",
       "      <th></th>\n",
       "      <th></th>\n",
       "      <th></th>\n",
       "      <th></th>\n",
       "      <th></th>\n",
       "      <th></th>\n",
       "      <th></th>\n",
       "    </tr>\n",
       "  </thead>\n",
       "  <tbody>\n",
       "    <tr>\n",
       "      <th>2015</th>\n",
       "      <td>24710.02</td>\n",
       "      <td>37349.27</td>\n",
       "      <td>63568.31</td>\n",
       "      <td>12588.48</td>\n",
       "      <td>28828.25</td>\n",
       "      <td>35194.56</td>\n",
       "      <td>29181.33</td>\n",
       "      <td>54027.69</td>\n",
       "      <td>29520.49</td>\n",
       "      <td>64369.46</td>\n",
       "      <td>34561.95</td>\n",
       "      <td>65956.40</td>\n",
       "      <td>479856.21</td>\n",
       "    </tr>\n",
       "    <tr>\n",
       "      <th>2016</th>\n",
       "      <td>38056.97</td>\n",
       "      <td>49076.93</td>\n",
       "      <td>52891.88</td>\n",
       "      <td>20728.35</td>\n",
       "      <td>29347.39</td>\n",
       "      <td>28573.31</td>\n",
       "      <td>28515.91</td>\n",
       "      <td>34489.68</td>\n",
       "      <td>30761.56</td>\n",
       "      <td>50009.14</td>\n",
       "      <td>31631.89</td>\n",
       "      <td>65353.00</td>\n",
       "      <td>459436.01</td>\n",
       "    </tr>\n",
       "    <tr>\n",
       "      <th>2017</th>\n",
       "      <td>42368.05</td>\n",
       "      <td>45766.81</td>\n",
       "      <td>72847.09</td>\n",
       "      <td>48907.59</td>\n",
       "      <td>38048.18</td>\n",
       "      <td>41761.94</td>\n",
       "      <td>37424.68</td>\n",
       "      <td>48990.14</td>\n",
       "      <td>64836.25</td>\n",
       "      <td>66392.55</td>\n",
       "      <td>52156.96</td>\n",
       "      <td>40692.31</td>\n",
       "      <td>600192.55</td>\n",
       "    </tr>\n",
       "    <tr>\n",
       "      <th>2018</th>\n",
       "      <td>37849.22</td>\n",
       "      <td>75408.78</td>\n",
       "      <td>56959.24</td>\n",
       "      <td>48928.83</td>\n",
       "      <td>59767.09</td>\n",
       "      <td>53942.78</td>\n",
       "      <td>46912.85</td>\n",
       "      <td>74748.62</td>\n",
       "      <td>40882.45</td>\n",
       "      <td>87997.64</td>\n",
       "      <td>65501.16</td>\n",
       "      <td>73153.36</td>\n",
       "      <td>722052.02</td>\n",
       "    </tr>\n",
       "    <tr>\n",
       "      <th>All</th>\n",
       "      <td>142984.25</td>\n",
       "      <td>207601.79</td>\n",
       "      <td>246266.52</td>\n",
       "      <td>131153.26</td>\n",
       "      <td>155990.92</td>\n",
       "      <td>159472.59</td>\n",
       "      <td>142034.77</td>\n",
       "      <td>212256.13</td>\n",
       "      <td>166000.75</td>\n",
       "      <td>268768.79</td>\n",
       "      <td>183851.96</td>\n",
       "      <td>245155.07</td>\n",
       "      <td>2261536.78</td>\n",
       "    </tr>\n",
       "  </tbody>\n",
       "</table>\n",
       "</div>"
      ],
      "text/plain": [
       "Order Month      April     August   December   February    January       July  \\\n",
       "Order Year                                                                      \n",
       "2015          24710.02   37349.27   63568.31   12588.48   28828.25   35194.56   \n",
       "2016          38056.97   49076.93   52891.88   20728.35   29347.39   28573.31   \n",
       "2017          42368.05   45766.81   72847.09   48907.59   38048.18   41761.94   \n",
       "2018          37849.22   75408.78   56959.24   48928.83   59767.09   53942.78   \n",
       "All          142984.25  207601.79  246266.52  131153.26  155990.92  159472.59   \n",
       "\n",
       "Order Month       June      March        May   November    October  September  \\\n",
       "Order Year                                                                      \n",
       "2015          29181.33   54027.69   29520.49   64369.46   34561.95   65956.40   \n",
       "2016          28515.91   34489.68   30761.56   50009.14   31631.89   65353.00   \n",
       "2017          37424.68   48990.14   64836.25   66392.55   52156.96   40692.31   \n",
       "2018          46912.85   74748.62   40882.45   87997.64   65501.16   73153.36   \n",
       "All          142034.77  212256.13  166000.75  268768.79  183851.96  245155.07   \n",
       "\n",
       "Order Month         All  \n",
       "Order Year               \n",
       "2015          479856.21  \n",
       "2016          459436.01  \n",
       "2017          600192.55  \n",
       "2018          722052.02  \n",
       "All          2261536.78  "
      ]
     },
     "execution_count": 145,
     "metadata": {},
     "output_type": "execute_result"
    }
   ],
   "source": [
    "# our pivot table with the total amount generated from Sales\n",
    "total_sales_table = pd.pivot_table(store_df, values='Sales', index='Order Year', columns='Order Month', aggfunc='sum', margins=True).round(2)\n",
    "total_sales_table"
   ]
  },
  {
   "cell_type": "markdown",
   "id": "465f3731-21d0-45cf-9624-b859779229e6",
   "metadata": {},
   "source": [
    "the pivot table above clearly shows as the Sales/Revenue totals in every month for every year present in the dataset, which the *margins=True* parameter adding the 'All' column for Totals of every year. All rounded off to 2 decimal places."
   ]
  },
  {
   "cell_type": "code",
   "execution_count": 146,
   "id": "130ba312-6745-41d3-b9ef-cf59ed37c0d5",
   "metadata": {},
   "outputs": [
    {
     "data": {
      "text/html": [
       "<div>\n",
       "<style scoped>\n",
       "    .dataframe tbody tr th:only-of-type {\n",
       "        vertical-align: middle;\n",
       "    }\n",
       "\n",
       "    .dataframe tbody tr th {\n",
       "        vertical-align: top;\n",
       "    }\n",
       "\n",
       "    .dataframe thead th {\n",
       "        text-align: right;\n",
       "    }\n",
       "</style>\n",
       "<table border=\"1\" class=\"dataframe\">\n",
       "  <thead>\n",
       "    <tr style=\"text-align: right;\">\n",
       "      <th>Order Month</th>\n",
       "      <th>April</th>\n",
       "      <th>August</th>\n",
       "      <th>December</th>\n",
       "      <th>February</th>\n",
       "      <th>January</th>\n",
       "      <th>July</th>\n",
       "      <th>June</th>\n",
       "      <th>March</th>\n",
       "      <th>May</th>\n",
       "      <th>November</th>\n",
       "      <th>October</th>\n",
       "      <th>September</th>\n",
       "      <th>All</th>\n",
       "    </tr>\n",
       "    <tr>\n",
       "      <th>Order Year</th>\n",
       "      <th></th>\n",
       "      <th></th>\n",
       "      <th></th>\n",
       "      <th></th>\n",
       "      <th></th>\n",
       "      <th></th>\n",
       "      <th></th>\n",
       "      <th></th>\n",
       "      <th></th>\n",
       "      <th></th>\n",
       "      <th></th>\n",
       "      <th></th>\n",
       "      <th></th>\n",
       "    </tr>\n",
       "  </thead>\n",
       "  <tbody>\n",
       "    <tr>\n",
       "      <th>2015</th>\n",
       "      <td>121</td>\n",
       "      <td>145</td>\n",
       "      <td>240</td>\n",
       "      <td>84</td>\n",
       "      <td>126</td>\n",
       "      <td>154</td>\n",
       "      <td>135</td>\n",
       "      <td>161</td>\n",
       "      <td>146</td>\n",
       "      <td>258</td>\n",
       "      <td>145</td>\n",
       "      <td>238</td>\n",
       "      <td>1953</td>\n",
       "    </tr>\n",
       "    <tr>\n",
       "      <th>2016</th>\n",
       "      <td>159</td>\n",
       "      <td>170</td>\n",
       "      <td>240</td>\n",
       "      <td>102</td>\n",
       "      <td>86</td>\n",
       "      <td>128</td>\n",
       "      <td>149</td>\n",
       "      <td>144</td>\n",
       "      <td>174</td>\n",
       "      <td>279</td>\n",
       "      <td>153</td>\n",
       "      <td>271</td>\n",
       "      <td>2055</td>\n",
       "    </tr>\n",
       "    <tr>\n",
       "      <th>2017</th>\n",
       "      <td>186</td>\n",
       "      <td>236</td>\n",
       "      <td>264</td>\n",
       "      <td>122</td>\n",
       "      <td>154</td>\n",
       "      <td>201</td>\n",
       "      <td>180</td>\n",
       "      <td>190</td>\n",
       "      <td>257</td>\n",
       "      <td>288</td>\n",
       "      <td>231</td>\n",
       "      <td>225</td>\n",
       "      <td>2534</td>\n",
       "    </tr>\n",
       "    <tr>\n",
       "      <th>2018</th>\n",
       "      <td>225</td>\n",
       "      <td>248</td>\n",
       "      <td>321</td>\n",
       "      <td>228</td>\n",
       "      <td>209</td>\n",
       "      <td>241</td>\n",
       "      <td>220</td>\n",
       "      <td>302</td>\n",
       "      <td>241</td>\n",
       "      <td>369</td>\n",
       "      <td>272</td>\n",
       "      <td>382</td>\n",
       "      <td>3258</td>\n",
       "    </tr>\n",
       "    <tr>\n",
       "      <th>All</th>\n",
       "      <td>691</td>\n",
       "      <td>799</td>\n",
       "      <td>1065</td>\n",
       "      <td>536</td>\n",
       "      <td>575</td>\n",
       "      <td>724</td>\n",
       "      <td>684</td>\n",
       "      <td>797</td>\n",
       "      <td>818</td>\n",
       "      <td>1194</td>\n",
       "      <td>801</td>\n",
       "      <td>1116</td>\n",
       "      <td>9800</td>\n",
       "    </tr>\n",
       "  </tbody>\n",
       "</table>\n",
       "</div>"
      ],
      "text/plain": [
       "Order Month  April  August  December  February  January  July  June  March  \\\n",
       "Order Year                                                                   \n",
       "2015           121     145       240        84      126   154   135    161   \n",
       "2016           159     170       240       102       86   128   149    144   \n",
       "2017           186     236       264       122      154   201   180    190   \n",
       "2018           225     248       321       228      209   241   220    302   \n",
       "All            691     799      1065       536      575   724   684    797   \n",
       "\n",
       "Order Month  May  November  October  September   All  \n",
       "Order Year                                            \n",
       "2015         146       258      145        238  1953  \n",
       "2016         174       279      153        271  2055  \n",
       "2017         257       288      231        225  2534  \n",
       "2018         241       369      272        382  3258  \n",
       "All          818      1194      801       1116  9800  "
      ]
     },
     "execution_count": 146,
     "metadata": {},
     "output_type": "execute_result"
    }
   ],
   "source": [
    "# using the count paramter to get the number of sales done in each year. The totals in the 'All' column should be equal to the total rows in the dataframe - 9800\n",
    "no_of_sales_table = pd.pivot_table(store_df, values='Sales', index='Order Year', columns='Order Month', aggfunc='count', margins=True).round(2)\n",
    "no_of_sales_table"
   ]
  },
  {
   "cell_type": "markdown",
   "id": "05a0b2bf-6a26-4514-a62d-43263d1291bd",
   "metadata": {},
   "source": [
    "We are now able to see the number of Sales that have happened over the years. It is observable that more sells happen in November and less in February, which each year having an increase number of sales done. We can visualize by ploting a heatmap."
   ]
  },
  {
   "cell_type": "code",
   "execution_count": 147,
   "id": "b1e03645-b317-4843-b93a-8447b4623bf4",
   "metadata": {},
   "outputs": [
    {
     "data": {
      "text/html": [
       "<div>\n",
       "<style scoped>\n",
       "    .dataframe tbody tr th:only-of-type {\n",
       "        vertical-align: middle;\n",
       "    }\n",
       "\n",
       "    .dataframe tbody tr th {\n",
       "        vertical-align: top;\n",
       "    }\n",
       "\n",
       "    .dataframe thead th {\n",
       "        text-align: right;\n",
       "    }\n",
       "</style>\n",
       "<table border=\"1\" class=\"dataframe\">\n",
       "  <thead>\n",
       "    <tr style=\"text-align: right;\">\n",
       "      <th>Order Month</th>\n",
       "      <th>April</th>\n",
       "      <th>August</th>\n",
       "      <th>December</th>\n",
       "      <th>February</th>\n",
       "      <th>January</th>\n",
       "      <th>July</th>\n",
       "      <th>June</th>\n",
       "      <th>March</th>\n",
       "      <th>May</th>\n",
       "      <th>November</th>\n",
       "      <th>October</th>\n",
       "      <th>September</th>\n",
       "    </tr>\n",
       "    <tr>\n",
       "      <th>Order Year</th>\n",
       "      <th></th>\n",
       "      <th></th>\n",
       "      <th></th>\n",
       "      <th></th>\n",
       "      <th></th>\n",
       "      <th></th>\n",
       "      <th></th>\n",
       "      <th></th>\n",
       "      <th></th>\n",
       "      <th></th>\n",
       "      <th></th>\n",
       "      <th></th>\n",
       "    </tr>\n",
       "  </thead>\n",
       "  <tbody>\n",
       "    <tr>\n",
       "      <th>2015</th>\n",
       "      <td>121</td>\n",
       "      <td>145</td>\n",
       "      <td>240</td>\n",
       "      <td>84</td>\n",
       "      <td>126</td>\n",
       "      <td>154</td>\n",
       "      <td>135</td>\n",
       "      <td>161</td>\n",
       "      <td>146</td>\n",
       "      <td>258</td>\n",
       "      <td>145</td>\n",
       "      <td>238</td>\n",
       "    </tr>\n",
       "    <tr>\n",
       "      <th>2016</th>\n",
       "      <td>159</td>\n",
       "      <td>170</td>\n",
       "      <td>240</td>\n",
       "      <td>102</td>\n",
       "      <td>86</td>\n",
       "      <td>128</td>\n",
       "      <td>149</td>\n",
       "      <td>144</td>\n",
       "      <td>174</td>\n",
       "      <td>279</td>\n",
       "      <td>153</td>\n",
       "      <td>271</td>\n",
       "    </tr>\n",
       "    <tr>\n",
       "      <th>2017</th>\n",
       "      <td>186</td>\n",
       "      <td>236</td>\n",
       "      <td>264</td>\n",
       "      <td>122</td>\n",
       "      <td>154</td>\n",
       "      <td>201</td>\n",
       "      <td>180</td>\n",
       "      <td>190</td>\n",
       "      <td>257</td>\n",
       "      <td>288</td>\n",
       "      <td>231</td>\n",
       "      <td>225</td>\n",
       "    </tr>\n",
       "    <tr>\n",
       "      <th>2018</th>\n",
       "      <td>225</td>\n",
       "      <td>248</td>\n",
       "      <td>321</td>\n",
       "      <td>228</td>\n",
       "      <td>209</td>\n",
       "      <td>241</td>\n",
       "      <td>220</td>\n",
       "      <td>302</td>\n",
       "      <td>241</td>\n",
       "      <td>369</td>\n",
       "      <td>272</td>\n",
       "      <td>382</td>\n",
       "    </tr>\n",
       "  </tbody>\n",
       "</table>\n",
       "</div>"
      ],
      "text/plain": [
       "Order Month  April  August  December  February  January  July  June  March  \\\n",
       "Order Year                                                                   \n",
       "2015           121     145       240        84      126   154   135    161   \n",
       "2016           159     170       240       102       86   128   149    144   \n",
       "2017           186     236       264       122      154   201   180    190   \n",
       "2018           225     248       321       228      209   241   220    302   \n",
       "\n",
       "Order Month  May  November  October  September  \n",
       "Order Year                                      \n",
       "2015         146       258      145        238  \n",
       "2016         174       279      153        271  \n",
       "2017         257       288      231        225  \n",
       "2018         241       369      272        382  "
      ]
     },
     "execution_count": 147,
     "metadata": {},
     "output_type": "execute_result"
    }
   ],
   "source": [
    "no_of_sales_table2 = no_of_sales_table.drop(columns=('All')) #drop the column 'All' it will affect the value scale of the heatmap, since its a Sum column\n",
    "no_of_sales_table2 = no_of_sales_table2.drop(index=('All')) #drop the index 'All' it will affect the value scale of the heatmap for the same reason\n",
    "no_of_sales_table2 #our new sales dataframe for the heatmap visualizations\n"
   ]
  },
  {
   "cell_type": "code",
   "execution_count": 148,
   "id": "96f3ea1d-5af1-4a24-9e71-91b2faf01f3e",
   "metadata": {},
   "outputs": [
    {
     "data": {
      "text/plain": [
       "<AxesSubplot: title={'center': 'SuperStore - Number of Sales Each Month for the Review Period: 2015 - 2019'}, xlabel='Order Month', ylabel='Order Year'>"
      ]
     },
     "execution_count": 148,
     "metadata": {},
     "output_type": "execute_result"
    },
    {
     "data": {
      "image/png": "[encoded data removed]",
      "text/plain": [
       "<Figure size 1440x360 with 1 Axes>"
      ]
     },
     "metadata": {
      "needs_background": "light"
     },
     "output_type": "display_data"
    }
   ],
   "source": [
    "plt.figure(figsize=(20,5)) #size of plot\n",
    "plt.title('SuperStore - Number of Sales Each Month for the Review Period: 2015 - 2019', fontsize=11, fontweight='bold') #title\n",
    "sns.heatmap(no_of_sales_table2, cmap='Blues', annot=True, annot_kws={\"size\":11}, fmt=\"d\", cbar=False) #the plot. annotation true, colors for map are Blues, and color bar disabled"
   ]
  },
  {
   "cell_type": "markdown",
   "id": "3c2afb41-6a76-4a27-a635-a91f40545ab0",
   "metadata": {},
   "source": [
    "The lighter the shade of blue the less the Number of Sales that year for the corresponding month. We can then observe that September 2018 had the most Number of Sales in the review period; and February 2015 had the lowest Number of Sales."
   ]
  },
  {
   "cell_type": "markdown",
   "id": "c731e5aa-24eb-446b-93de-a94eb2fad725",
   "metadata": {},
   "source": [
    "We can also confirm the yearly total Revenue by creating a pivot table for Sales and Years only."
   ]
  },
  {
   "cell_type": "code",
   "execution_count": 149,
   "id": "1c75af7e-14cf-4127-a1c1-ac54884d7cbf",
   "metadata": {
    "tags": []
   },
   "outputs": [
    {
     "data": {
      "text/html": [
       "<div>\n",
       "<style scoped>\n",
       "    .dataframe tbody tr th:only-of-type {\n",
       "        vertical-align: middle;\n",
       "    }\n",
       "\n",
       "    .dataframe tbody tr th {\n",
       "        vertical-align: top;\n",
       "    }\n",
       "\n",
       "    .dataframe thead tr th {\n",
       "        text-align: left;\n",
       "    }\n",
       "\n",
       "    .dataframe thead tr:last-of-type th {\n",
       "        text-align: right;\n",
       "    }\n",
       "</style>\n",
       "<table border=\"1\" class=\"dataframe\">\n",
       "  <thead>\n",
       "    <tr>\n",
       "      <th></th>\n",
       "      <th>sum</th>\n",
       "      <th>mean</th>\n",
       "    </tr>\n",
       "    <tr>\n",
       "      <th></th>\n",
       "      <th>Sales</th>\n",
       "      <th>Sales</th>\n",
       "    </tr>\n",
       "    <tr>\n",
       "      <th>Order Year</th>\n",
       "      <th></th>\n",
       "      <th></th>\n",
       "    </tr>\n",
       "  </thead>\n",
       "  <tbody>\n",
       "    <tr>\n",
       "      <th>2015</th>\n",
       "      <td>479856.21</td>\n",
       "      <td>245.70</td>\n",
       "    </tr>\n",
       "    <tr>\n",
       "      <th>2016</th>\n",
       "      <td>459436.01</td>\n",
       "      <td>223.57</td>\n",
       "    </tr>\n",
       "    <tr>\n",
       "      <th>2017</th>\n",
       "      <td>600192.55</td>\n",
       "      <td>236.86</td>\n",
       "    </tr>\n",
       "    <tr>\n",
       "      <th>2018</th>\n",
       "      <td>722052.02</td>\n",
       "      <td>221.62</td>\n",
       "    </tr>\n",
       "  </tbody>\n",
       "</table>\n",
       "</div>"
      ],
      "text/plain": [
       "                  sum    mean\n",
       "                Sales   Sales\n",
       "Order Year                   \n",
       "2015        479856.21  245.70\n",
       "2016        459436.01  223.57\n",
       "2017        600192.55  236.86\n",
       "2018        722052.02  221.62"
      ]
     },
     "execution_count": 149,
     "metadata": {},
     "output_type": "execute_result"
    }
   ],
   "source": [
    "year_sales_table = pd.pivot_table(store_df, 'Sales', index='Order Year', aggfunc=['sum', 'mean']).round(2)\n",
    "year_sales_table "
   ]
  },
  {
   "cell_type": "code",
   "execution_count": 150,
   "id": "33011937-120f-474c-b357-2c9bdf1bf414",
   "metadata": {},
   "outputs": [
    {
     "data": {
      "text/html": [
       "<div>\n",
       "<style scoped>\n",
       "    .dataframe tbody tr th:only-of-type {\n",
       "        vertical-align: middle;\n",
       "    }\n",
       "\n",
       "    .dataframe tbody tr th {\n",
       "        vertical-align: top;\n",
       "    }\n",
       "\n",
       "    .dataframe thead th {\n",
       "        text-align: right;\n",
       "    }\n",
       "</style>\n",
       "<table border=\"1\" class=\"dataframe\">\n",
       "  <thead>\n",
       "    <tr style=\"text-align: right;\">\n",
       "      <th></th>\n",
       "      <th>Order Year</th>\n",
       "      <th>Sales</th>\n",
       "    </tr>\n",
       "  </thead>\n",
       "  <tbody>\n",
       "    <tr>\n",
       "      <th>0</th>\n",
       "      <td>2018</td>\n",
       "      <td>722052.02</td>\n",
       "    </tr>\n",
       "    <tr>\n",
       "      <th>1</th>\n",
       "      <td>2017</td>\n",
       "      <td>600192.55</td>\n",
       "    </tr>\n",
       "    <tr>\n",
       "      <th>2</th>\n",
       "      <td>2015</td>\n",
       "      <td>479856.21</td>\n",
       "    </tr>\n",
       "    <tr>\n",
       "      <th>3</th>\n",
       "      <td>2016</td>\n",
       "      <td>459436.01</td>\n",
       "    </tr>\n",
       "  </tbody>\n",
       "</table>\n",
       "</div>"
      ],
      "text/plain": [
       "   Order Year      Sales\n",
       "0        2018  722052.02\n",
       "1        2017  600192.55\n",
       "2        2015  479856.21\n",
       "3        2016  459436.01"
      ]
     },
     "execution_count": 150,
     "metadata": {},
     "output_type": "execute_result"
    }
   ],
   "source": [
    "sales_year = store_df.groupby(['Order Year']).sum().sort_values(\"Sales\", ascending=False).head(10) #sort  based on Sales\n",
    "sales_year = sales_year[['Sales']].round(2) #round off Sales to the nearest 2 decimal points\n",
    "sales_year.reset_index(inplace=True) #set Customer ID as a column and create a new index for this 'top_ten_customers' dataframe\n",
    "sales_year"
   ]
  },
  {
   "cell_type": "code",
   "execution_count": 151,
   "id": "6cd205a5-7c24-4d3b-857a-51475c959220",
   "metadata": {},
   "outputs": [
    {
     "data": {
      "text/plain": [
       "Text(0, 0.5, 'Total Revenue')"
      ]
     },
     "execution_count": 151,
     "metadata": {},
     "output_type": "execute_result"
    },
    {
     "data": {
      "image/png": "[encoded data removed]",
      "text/plain": [
       "<Figure size 576x288 with 1 Axes>"
      ]
     },
     "metadata": {
      "needs_background": "light"
     },
     "output_type": "display_data"
    }
   ],
   "source": [
    "plt.figure(figsize=(8,4))\n",
    "plt.bar(sales_year['Order Year'], sales_year['Sales'], color='#ecb365') #what to plot\n",
    "plt.title('SuperStore - Total Revenue for the Review Period: 2015 - 2019', fontsize=9, fontweight='bold') #title of out plot\n",
    "plt.xlabel('Year') #our axis labels\n",
    "plt.xticks(rotation='vertical')\n",
    "plt.ylabel('Total Revenue') \n",
    "#for i, j in sales_year['Sales'].items(): #our index, values and enumerator\n",
    "#    plt.text(i, j+3, '$'+str(j)); "
   ]
  },
  {
   "cell_type": "markdown",
   "id": "7756018f-6111-4429-80db-62fdbf658e7e",
   "metadata": {
    "tags": []
   },
   "source": [
    "### 3.2: Who Are The Top Customers of The Store?"
   ]
  },
  {
   "cell_type": "markdown",
   "id": "e63375d6-9f99-4b11-afc2-30259d5bb512",
   "metadata": {},
   "source": [
    "-  Their Top Buyers\n",
    "-  Revenues and Sales in Segments"
   ]
  },
  {
   "cell_type": "markdown",
   "id": "aadefc38-ab00-44d6-aba1-14af206a19bf",
   "metadata": {
    "tags": []
   },
   "source": [
    "We had previously removed the 'Customer Name' column from our dataframe so for this query we will use the 'Customer ID' column to find out who are the top customers of the store based off of the Sales. Maybe the store can throw in rewards for them."
   ]
  },
  {
   "cell_type": "code",
   "execution_count": 152,
   "id": "ec0a1f97-2a4a-4641-a7b3-ee38d0f0e998",
   "metadata": {
    "tags": []
   },
   "outputs": [
    {
     "data": {
      "text/html": [
       "<div>\n",
       "<style scoped>\n",
       "    .dataframe tbody tr th:only-of-type {\n",
       "        vertical-align: middle;\n",
       "    }\n",
       "\n",
       "    .dataframe tbody tr th {\n",
       "        vertical-align: top;\n",
       "    }\n",
       "\n",
       "    .dataframe thead th {\n",
       "        text-align: right;\n",
       "    }\n",
       "</style>\n",
       "<table border=\"1\" class=\"dataframe\">\n",
       "  <thead>\n",
       "    <tr style=\"text-align: right;\">\n",
       "      <th></th>\n",
       "      <th>Customer ID</th>\n",
       "      <th>Sales</th>\n",
       "    </tr>\n",
       "  </thead>\n",
       "  <tbody>\n",
       "    <tr>\n",
       "      <th>0</th>\n",
       "      <td>SM-20320</td>\n",
       "      <td>25043.05</td>\n",
       "    </tr>\n",
       "    <tr>\n",
       "      <th>1</th>\n",
       "      <td>TC-20980</td>\n",
       "      <td>19052.22</td>\n",
       "    </tr>\n",
       "    <tr>\n",
       "      <th>2</th>\n",
       "      <td>RB-19360</td>\n",
       "      <td>15117.34</td>\n",
       "    </tr>\n",
       "    <tr>\n",
       "      <th>3</th>\n",
       "      <td>TA-21385</td>\n",
       "      <td>14595.62</td>\n",
       "    </tr>\n",
       "    <tr>\n",
       "      <th>4</th>\n",
       "      <td>AB-10105</td>\n",
       "      <td>14473.57</td>\n",
       "    </tr>\n",
       "    <tr>\n",
       "      <th>5</th>\n",
       "      <td>KL-16645</td>\n",
       "      <td>14175.23</td>\n",
       "    </tr>\n",
       "    <tr>\n",
       "      <th>6</th>\n",
       "      <td>SC-20095</td>\n",
       "      <td>14142.33</td>\n",
       "    </tr>\n",
       "    <tr>\n",
       "      <th>7</th>\n",
       "      <td>HL-15040</td>\n",
       "      <td>12873.30</td>\n",
       "    </tr>\n",
       "    <tr>\n",
       "      <th>8</th>\n",
       "      <td>SE-20110</td>\n",
       "      <td>12209.44</td>\n",
       "    </tr>\n",
       "    <tr>\n",
       "      <th>9</th>\n",
       "      <td>CC-12370</td>\n",
       "      <td>12129.07</td>\n",
       "    </tr>\n",
       "  </tbody>\n",
       "</table>\n",
       "</div>"
      ],
      "text/plain": [
       "  Customer ID     Sales\n",
       "0    SM-20320  25043.05\n",
       "1    TC-20980  19052.22\n",
       "2    RB-19360  15117.34\n",
       "3    TA-21385  14595.62\n",
       "4    AB-10105  14473.57\n",
       "5    KL-16645  14175.23\n",
       "6    SC-20095  14142.33\n",
       "7    HL-15040  12873.30\n",
       "8    SE-20110  12209.44\n",
       "9    CC-12370  12129.07"
      ]
     },
     "execution_count": 152,
     "metadata": {},
     "output_type": "execute_result"
    }
   ],
   "source": [
    "top_ten_customers = store_df.groupby(['Customer ID']).sum().sort_values(\"Sales\", ascending=False).head(10) #sort Customers based on Sales\n",
    "top_ten_customers = top_ten_customers[['Sales']].round(2) #round off Sales to the nearest 2 decimal points\n",
    "top_ten_customers.reset_index(inplace=True) #set Customer ID as a column and create a new index for this 'top_ten_customers' dataframe\n",
    "top_ten_customers #view the top 10 customers"
   ]
  },
  {
   "cell_type": "markdown",
   "id": "3c97593d-144c-4941-bde5-bfbbc54de707",
   "metadata": {},
   "source": [
    "plot for this query"
   ]
  },
  {
   "cell_type": "code",
   "execution_count": 153,
   "id": "f97cdff2-807c-4660-b5de-15abb577fc64",
   "metadata": {
    "tags": []
   },
   "outputs": [
    {
     "data": {
      "image/png": "[encoded data removed]",
      "text/plain": [
       "<Figure size 1440x360 with 1 Axes>"
      ]
     },
     "metadata": {
      "needs_background": "light"
     },
     "output_type": "display_data"
    }
   ],
   "source": [
    "plt.figure(figsize=(20, 5)) #size of the plot\n",
    "plt.bar(top_ten_customers['Customer ID'], top_ten_customers['Sales'], color='#99f5e0', edgecolor='green') #what to plot\n",
    "plt.title('SuperStore - Top Ten Customers Over the Review Period: 2015 - 2019', fontsize=11, fontweight='bold') #title of out plot\n",
    "plt.xlabel('Customer ID') #our axis labels\n",
    "plt.ylabel('Total Spendings') \n",
    "for i, j in top_ten_customers['Sales'].items(): #our index, values and enumerator\n",
    "    plt.text(i, j-10000, '$'+str(j), fontsize=11, rotation='vertical', horizontalalignment='center'); #annotation of Sales values in each bar and specifying the position of the values"
   ]
  },
  {
   "cell_type": "markdown",
   "id": "7d3d14cb-79d3-4cd7-8fc7-bcbeaabd502e",
   "metadata": {},
   "source": [
    "### 3.2.1: Revenue and Sales in terms of the Segments"
   ]
  },
  {
   "cell_type": "code",
   "execution_count": null,
   "id": "0181e4db-91ed-4586-8584-84e5702efefe",
   "metadata": {},
   "outputs": [],
   "source": []
  },
  {
   "cell_type": "code",
   "execution_count": null,
   "id": "f62dfae8-ca6b-46d5-a33c-a7a33f34464d",
   "metadata": {},
   "outputs": [],
   "source": []
  },
  {
   "cell_type": "markdown",
   "id": "4f36f7b4-9e01-4f28-964f-16e9c0f18c64",
   "metadata": {},
   "source": [
    "### 3.3: The Store's Order fullfilment"
   ]
  },
  {
   "cell_type": "markdown",
   "id": "9f159639-4bde-4ec0-98f2-501bfb91ffdd",
   "metadata": {},
   "source": [
    "-  The Shipping Modes\n",
    "-  Average days taken for Order fullfilment i.e, from Order Date to Ship Date\n",
    "-  Does Fullfilment duration depend on Shipping Mode?"
   ]
  },
  {
   "cell_type": "code",
   "execution_count": 154,
   "id": "6263481e-3f50-4629-af6b-ab04c88f690c",
   "metadata": {},
   "outputs": [
    {
     "data": {
      "text/plain": [
       "Standard Class    5859\n",
       "Second Class      1902\n",
       "First Class       1501\n",
       "Same Day           538\n",
       "Name: Ship Mode, dtype: int64"
      ]
     },
     "execution_count": 154,
     "metadata": {},
     "output_type": "execute_result"
    }
   ],
   "source": [
    "store_df['Ship Mode'].value_counts()"
   ]
  },
  {
   "cell_type": "code",
   "execution_count": 155,
   "id": "547cd7d1",
   "metadata": {},
   "outputs": [
    {
     "data": {
      "text/plain": [
       "<AxesSubplot: ylabel='Ship Mode'>"
      ]
     },
     "execution_count": 155,
     "metadata": {},
     "output_type": "execute_result"
    },
    {
     "data": {
      "image/png": "[encoded data removed]",
      "text/plain": [
       "<Figure size 720x360 with 1 Axes>"
      ]
     },
     "metadata": {},
     "output_type": "display_data"
    }
   ],
   "source": [
    "plt.figure(figsize=(10,5))\n",
    "store_df['Ship Mode'].value_counts().plot.pie()"
   ]
  },
  {
   "cell_type": "markdown",
   "id": "d035dddb-5366-471e-94b5-53b5f84c8c2f",
   "metadata": {},
   "source": [
    "the Standard Class shipping mode is the most opted for by customers for their orders"
   ]
  },
  {
   "cell_type": "markdown",
   "id": "fa7867b4-d08c-498c-96b4-d00b788c79b3",
   "metadata": {},
   "source": [
    "Let's obtain the Order fullfilment days"
   ]
  },
  {
   "cell_type": "code",
   "execution_count": 156,
   "id": "0f27b955-1e04-4c3b-bd7f-73e3238faf1b",
   "metadata": {
    "tags": []
   },
   "outputs": [],
   "source": [
    "store_df['Fullfilment Days'] = store_df['Ship Date'] - store_df['Order Date'] #a new column that gets its values from the difference of the two columns"
   ]
  },
  {
   "cell_type": "code",
   "execution_count": 157,
   "id": "1a757c91-1c5f-4feb-ae0a-731207764a79",
   "metadata": {},
   "outputs": [
    {
     "data": {
      "text/html": [
       "<div>\n",
       "<style scoped>\n",
       "    .dataframe tbody tr th:only-of-type {\n",
       "        vertical-align: middle;\n",
       "    }\n",
       "\n",
       "    .dataframe tbody tr th {\n",
       "        vertical-align: top;\n",
       "    }\n",
       "\n",
       "    .dataframe thead th {\n",
       "        text-align: right;\n",
       "    }\n",
       "</style>\n",
       "<table border=\"1\" class=\"dataframe\">\n",
       "  <thead>\n",
       "    <tr style=\"text-align: right;\">\n",
       "      <th></th>\n",
       "      <th>Order ID</th>\n",
       "      <th>Order Date</th>\n",
       "      <th>Ship Date</th>\n",
       "      <th>Ship Mode</th>\n",
       "      <th>Customer ID</th>\n",
       "      <th>Segment</th>\n",
       "      <th>Country</th>\n",
       "      <th>City</th>\n",
       "      <th>State</th>\n",
       "      <th>Postal Code</th>\n",
       "      <th>...</th>\n",
       "      <th>Product Name</th>\n",
       "      <th>Sales</th>\n",
       "      <th>Quantity</th>\n",
       "      <th>Discount</th>\n",
       "      <th>Profit</th>\n",
       "      <th>Order Year</th>\n",
       "      <th>Shipping Year</th>\n",
       "      <th>Order Month</th>\n",
       "      <th>Shipping Month</th>\n",
       "      <th>Fullfilment Days</th>\n",
       "    </tr>\n",
       "  </thead>\n",
       "  <tbody>\n",
       "    <tr>\n",
       "      <th>5194</th>\n",
       "      <td>CA-2015-101560</td>\n",
       "      <td>2015-11-28</td>\n",
       "      <td>2015-01-12</td>\n",
       "      <td>Second Class</td>\n",
       "      <td>CS-12250</td>\n",
       "      <td>Corporate</td>\n",
       "      <td>United States</td>\n",
       "      <td>Columbia</td>\n",
       "      <td>South Carolina</td>\n",
       "      <td>29203.0</td>\n",
       "      <td>...</td>\n",
       "      <td>Crayola Colored Pencils</td>\n",
       "      <td>13.120</td>\n",
       "      <td>4</td>\n",
       "      <td>0.0</td>\n",
       "      <td>4.3296</td>\n",
       "      <td>2015</td>\n",
       "      <td>2015</td>\n",
       "      <td>November</td>\n",
       "      <td>November</td>\n",
       "      <td>-320 days</td>\n",
       "    </tr>\n",
       "    <tr>\n",
       "      <th>9335</th>\n",
       "      <td>CA-2018-110198</td>\n",
       "      <td>2018-01-05</td>\n",
       "      <td>2018-02-05</td>\n",
       "      <td>First Class</td>\n",
       "      <td>AG-10900</td>\n",
       "      <td>Consumer</td>\n",
       "      <td>United States</td>\n",
       "      <td>Coral Springs</td>\n",
       "      <td>Florida</td>\n",
       "      <td>33065.0</td>\n",
       "      <td>...</td>\n",
       "      <td>Avery 492</td>\n",
       "      <td>4.608</td>\n",
       "      <td>2</td>\n",
       "      <td>0.2</td>\n",
       "      <td>1.4976</td>\n",
       "      <td>2018</td>\n",
       "      <td>2018</td>\n",
       "      <td>January</td>\n",
       "      <td>January</td>\n",
       "      <td>31 days</td>\n",
       "    </tr>\n",
       "  </tbody>\n",
       "</table>\n",
       "<p>2 rows × 24 columns</p>\n",
       "</div>"
      ],
      "text/plain": [
       "            Order ID Order Date  Ship Date     Ship Mode Customer ID  \\\n",
       "5194  CA-2015-101560 2015-11-28 2015-01-12  Second Class    CS-12250   \n",
       "9335  CA-2018-110198 2018-01-05 2018-02-05   First Class    AG-10900   \n",
       "\n",
       "        Segment        Country           City           State  Postal Code  \\\n",
       "5194  Corporate  United States       Columbia  South Carolina      29203.0   \n",
       "9335   Consumer  United States  Coral Springs         Florida      33065.0   \n",
       "\n",
       "      ...             Product Name   Sales Quantity Discount  Profit  \\\n",
       "5194  ...  Crayola Colored Pencils  13.120        4      0.0  4.3296   \n",
       "9335  ...                Avery 492   4.608        2      0.2  1.4976   \n",
       "\n",
       "      Order Year  Shipping Year  Order Month  Shipping Month  Fullfilment Days  \n",
       "5194        2015           2015     November        November         -320 days  \n",
       "9335        2018           2018      January         January           31 days  \n",
       "\n",
       "[2 rows x 24 columns]"
      ]
     },
     "execution_count": 157,
     "metadata": {},
     "output_type": "execute_result"
    }
   ],
   "source": [
    "store_df.sample(2) #check if column added"
   ]
  },
  {
   "cell_type": "code",
   "execution_count": 158,
   "id": "06c518f9-9657-42f2-a078-8f600113fd4a",
   "metadata": {},
   "outputs": [],
   "source": [
    "store_df['Fullfilment Days'] = store_df['Fullfilment Days'] / pd.Timedelta(1, unit='d')\n",
    "store_df['Fullfilment Days'] = store_df['Fullfilment Days'].astype('timedelta64[D]')"
   ]
  },
  {
   "cell_type": "code",
   "execution_count": 159,
   "id": "38d9f7e3-fd5e-4eec-acaa-21b7d1a1ef8e",
   "metadata": {},
   "outputs": [
    {
     "data": {
      "text/html": [
       "<div>\n",
       "<style scoped>\n",
       "    .dataframe tbody tr th:only-of-type {\n",
       "        vertical-align: middle;\n",
       "    }\n",
       "\n",
       "    .dataframe tbody tr th {\n",
       "        vertical-align: top;\n",
       "    }\n",
       "\n",
       "    .dataframe thead th {\n",
       "        text-align: right;\n",
       "    }\n",
       "</style>\n",
       "<table border=\"1\" class=\"dataframe\">\n",
       "  <thead>\n",
       "    <tr style=\"text-align: right;\">\n",
       "      <th></th>\n",
       "      <th>Order ID</th>\n",
       "      <th>Order Date</th>\n",
       "      <th>Ship Date</th>\n",
       "      <th>Ship Mode</th>\n",
       "      <th>Customer ID</th>\n",
       "      <th>Segment</th>\n",
       "      <th>Country</th>\n",
       "      <th>City</th>\n",
       "      <th>State</th>\n",
       "      <th>Postal Code</th>\n",
       "      <th>...</th>\n",
       "      <th>Product Name</th>\n",
       "      <th>Sales</th>\n",
       "      <th>Quantity</th>\n",
       "      <th>Discount</th>\n",
       "      <th>Profit</th>\n",
       "      <th>Order Year</th>\n",
       "      <th>Shipping Year</th>\n",
       "      <th>Order Month</th>\n",
       "      <th>Shipping Month</th>\n",
       "      <th>Fullfilment Days</th>\n",
       "    </tr>\n",
       "  </thead>\n",
       "  <tbody>\n",
       "    <tr>\n",
       "      <th>540</th>\n",
       "      <td>CA-2015-140795</td>\n",
       "      <td>2015-01-02</td>\n",
       "      <td>2015-03-02</td>\n",
       "      <td>First Class</td>\n",
       "      <td>BD-11500</td>\n",
       "      <td>Consumer</td>\n",
       "      <td>United States</td>\n",
       "      <td>Green Bay</td>\n",
       "      <td>Wisconsin</td>\n",
       "      <td>54302.0</td>\n",
       "      <td>...</td>\n",
       "      <td>Enermax Aurora Lite Keyboard</td>\n",
       "      <td>468.9</td>\n",
       "      <td>6</td>\n",
       "      <td>0.0</td>\n",
       "      <td>206.316</td>\n",
       "      <td>2015</td>\n",
       "      <td>2015</td>\n",
       "      <td>January</td>\n",
       "      <td>January</td>\n",
       "      <td>59 days</td>\n",
       "    </tr>\n",
       "  </tbody>\n",
       "</table>\n",
       "<p>1 rows × 24 columns</p>\n",
       "</div>"
      ],
      "text/plain": [
       "           Order ID Order Date  Ship Date    Ship Mode Customer ID   Segment  \\\n",
       "540  CA-2015-140795 2015-01-02 2015-03-02  First Class    BD-11500  Consumer   \n",
       "\n",
       "           Country       City      State  Postal Code  ...  \\\n",
       "540  United States  Green Bay  Wisconsin      54302.0  ...   \n",
       "\n",
       "                     Product Name  Sales Quantity Discount   Profit  \\\n",
       "540  Enermax Aurora Lite Keyboard  468.9        6      0.0  206.316   \n",
       "\n",
       "     Order Year  Shipping Year  Order Month  Shipping Month  Fullfilment Days  \n",
       "540        2015           2015      January         January           59 days  \n",
       "\n",
       "[1 rows x 24 columns]"
      ]
     },
     "execution_count": 159,
     "metadata": {},
     "output_type": "execute_result"
    }
   ],
   "source": [
    "store_df.head(1)"
   ]
  },
  {
   "cell_type": "code",
   "execution_count": null,
   "id": "520116ad-0c9a-4161-8fdc-ce06f270a356",
   "metadata": {},
   "outputs": [],
   "source": []
  },
  {
   "cell_type": "markdown",
   "id": "357a4fc2-5b9f-4f96-94d5-152d341d8f39",
   "metadata": {},
   "source": [
    "### 3.4: Product Performances"
   ]
  },
  {
   "cell_type": "markdown",
   "id": "61e45530-5d2c-4c6c-af8a-e7bf4fd0233c",
   "metadata": {},
   "source": [
    "-  Performance of Categories and Sub-Categories\n",
    "-  Top Selling Products\n",
    "-  Units Sold"
   ]
  },
  {
   "cell_type": "code",
   "execution_count": 160,
   "id": "09f9e319-1548-4194-82a1-2c9a1ea0597b",
   "metadata": {},
   "outputs": [],
   "source": [
    "top_category = store_df.groupby([\"Category\"]).sum().sort_values(\"Sales\", ascending=False)  #Sort the Categories as per the sales\n",
    "top_category = top_category[[\"Sales\"]] #keep only the sales column in the dataframe\n",
    "total_revenue_category = top_category[\"Sales\"].sum() #the total revenue generated as per category\n",
    "total_revenue_category = str(int(total_revenue_category)) #Convert the total_revenue_category from float to int and then to string\n",
    "total_revenue_category = '$' + total_revenue_category #Adding '$' sign before the Value\n",
    "top_category.reset_index(inplace=True) #Since we have used groupby, we will have to reset the index to add the category into the dataframe"
   ]
  },
  {
   "cell_type": "code",
   "execution_count": 161,
   "id": "2d122568",
   "metadata": {},
   "outputs": [
    {
     "data": {
      "image/png": "[encoded data removed]",
      "text/plain": [
       "<Figure size 936x360 with 1 Axes>"
      ]
     },
     "metadata": {},
     "output_type": "display_data"
    }
   ],
   "source": [
    "plt.rcParams[\"figure.figsize\"] = (13,5) #size of plt\n",
    "plt.rcParams['font.size'] = 12 # Font size\n",
    "plt.rcParams['font.weight'] = 6 # Font weight\n",
    "# we don't want to look at the percentage distribution in the pie chart. Instead, we want to look at the exact revenue generated by the categories.\n",
    "def autopct_format(values): \n",
    "    def my_format(pct): \n",
    "        total = sum(values) \n",
    "        val = int(round(pct*total/100.0))\n",
    "        return ' ${v:d}'.format(v=val)\n",
    "    return my_format\n",
    "colors = ['#00ffed','#6454f0','#ee4d5f'] #Colors the pie chart\n",
    "explode = (0.05,0.05,0.05)\n",
    "fig1, ax1 = plt.subplots()\n",
    "ax1.pie(top_category['Sales'], colors = colors, labels=top_category['Category'], autopct= autopct_format(top_category['Sales']), startangle=90,explode=explode)\n",
    "centre_circle = plt.Circle((0,0),0.82,fc='white') #drawing a circle on the pie chart to make it look better \n",
    "fig = plt.gcf()\n",
    "fig.gca().add_artist(centre_circle) # Add the circle on the pie chart\n",
    "# Equal aspect ratio ensures that pie is drawn as a circle\n",
    "ax1.axis('equal') \n",
    "# we can look the total revenue generated by all the categories at the center\n",
    "label = ax1.annotate('Total Revenue \\n'+str(total_revenue_category),color = 'red', xy=(0, 0), fontsize=12, ha=\"center\")\n",
    "plt.title('SuperStore - Contribution of Each Category to Total Revenue: 2015 - 2019')\n",
    "plt.tight_layout()\n",
    "plt.show()"
   ]
  },
  {
   "cell_type": "code",
   "execution_count": null,
   "id": "40b588ce-1d11-4454-b309-433fd25dddcd",
   "metadata": {},
   "outputs": [],
   "source": []
  },
  {
   "cell_type": "code",
   "execution_count": 162,
   "id": "a57c8000-6a00-4106-8be9-70bbb1df8c35",
   "metadata": {},
   "outputs": [
    {
     "data": {
      "text/html": [
       "<div>\n",
       "<style scoped>\n",
       "    .dataframe tbody tr th:only-of-type {\n",
       "        vertical-align: middle;\n",
       "    }\n",
       "\n",
       "    .dataframe tbody tr th {\n",
       "        vertical-align: top;\n",
       "    }\n",
       "\n",
       "    .dataframe thead th {\n",
       "        text-align: right;\n",
       "    }\n",
       "</style>\n",
       "<table border=\"1\" class=\"dataframe\">\n",
       "  <thead>\n",
       "    <tr style=\"text-align: right;\">\n",
       "      <th></th>\n",
       "      <th>Product Name</th>\n",
       "      <th>Sales</th>\n",
       "    </tr>\n",
       "  </thead>\n",
       "  <tbody>\n",
       "    <tr>\n",
       "      <th>0</th>\n",
       "      <td>Canon imageCLASS 2200 Advanced Copier</td>\n",
       "      <td>61599.82</td>\n",
       "    </tr>\n",
       "    <tr>\n",
       "      <th>1</th>\n",
       "      <td>Fellowes PB500 Electric Punch Plastic Comb Bin...</td>\n",
       "      <td>27453.38</td>\n",
       "    </tr>\n",
       "    <tr>\n",
       "      <th>2</th>\n",
       "      <td>Cisco TelePresence System EX90 Videoconferenci...</td>\n",
       "      <td>22638.48</td>\n",
       "    </tr>\n",
       "    <tr>\n",
       "      <th>3</th>\n",
       "      <td>HON 5400 Series Task Chairs for Big and Tall</td>\n",
       "      <td>21870.58</td>\n",
       "    </tr>\n",
       "    <tr>\n",
       "      <th>4</th>\n",
       "      <td>GBC DocuBind TL300 Electric Binding System</td>\n",
       "      <td>19823.48</td>\n",
       "    </tr>\n",
       "    <tr>\n",
       "      <th>5</th>\n",
       "      <td>GBC Ibimaster 500 Manual ProClick Binding System</td>\n",
       "      <td>19024.50</td>\n",
       "    </tr>\n",
       "    <tr>\n",
       "      <th>6</th>\n",
       "      <td>Hewlett Packard LaserJet 3310 Copier</td>\n",
       "      <td>18839.69</td>\n",
       "    </tr>\n",
       "    <tr>\n",
       "      <th>7</th>\n",
       "      <td>HP Designjet T520 Inkjet Large Format Printer ...</td>\n",
       "      <td>18374.90</td>\n",
       "    </tr>\n",
       "    <tr>\n",
       "      <th>8</th>\n",
       "      <td>GBC DocuBind P400 Electric Binding System</td>\n",
       "      <td>17965.07</td>\n",
       "    </tr>\n",
       "    <tr>\n",
       "      <th>9</th>\n",
       "      <td>High Speed Automatic Electric Letter Opener</td>\n",
       "      <td>17030.31</td>\n",
       "    </tr>\n",
       "  </tbody>\n",
       "</table>\n",
       "</div>"
      ],
      "text/plain": [
       "                                        Product Name     Sales\n",
       "0              Canon imageCLASS 2200 Advanced Copier  61599.82\n",
       "1  Fellowes PB500 Electric Punch Plastic Comb Bin...  27453.38\n",
       "2  Cisco TelePresence System EX90 Videoconferenci...  22638.48\n",
       "3       HON 5400 Series Task Chairs for Big and Tall  21870.58\n",
       "4         GBC DocuBind TL300 Electric Binding System  19823.48\n",
       "5   GBC Ibimaster 500 Manual ProClick Binding System  19024.50\n",
       "6               Hewlett Packard LaserJet 3310 Copier  18839.69\n",
       "7  HP Designjet T520 Inkjet Large Format Printer ...  18374.90\n",
       "8          GBC DocuBind P400 Electric Binding System  17965.07\n",
       "9        High Speed Automatic Electric Letter Opener  17030.31"
      ]
     },
     "execution_count": 162,
     "metadata": {},
     "output_type": "execute_result"
    }
   ],
   "source": [
    "top_products=store_df.groupby(['Product Name']).sum().sort_values('Sales',ascending=False).head(10)\n",
    "top_products=top_products[['Sales']].round(2)\n",
    "top_products.reset_index(inplace=True)\n",
    "top_products"
   ]
  },
  {
   "cell_type": "code",
   "execution_count": 163,
   "id": "42c60f23-826f-40e5-9bf1-858cb82cfde8",
   "metadata": {},
   "outputs": [
    {
     "data": {
      "text/plain": [
       "Text(0, 0.5, 'Total Revenue')"
      ]
     },
     "execution_count": 163,
     "metadata": {},
     "output_type": "execute_result"
    },
    {
     "data": {
      "image/png": "[encoded data removed]",
      "text/plain": [
       "<Figure size 1440x360 with 1 Axes>"
      ]
     },
     "metadata": {
      "needs_background": "light"
     },
     "output_type": "display_data"
    }
   ],
   "source": [
    "plt.figure(figsize=(20,5))\n",
    "plt.bar(top_products['Product Name'],top_products['Sales'],color='#d57eea',edgecolor='green')\n",
    "plt.xticks(rotation='vertical')\n",
    "plt.title('SuperStore - Ten Products with The Highest Revenues for The review period: 2015 - 2019',fontsize=12, fontweight='bold')\n",
    "plt.xlabel('Product',fontsize=12)\n",
    "plt.ylabel('Total Revenue',fontsize=12)"
   ]
  },
  {
   "cell_type": "code",
   "execution_count": null,
   "id": "93f0384d-2a1e-48c7-9cdb-eea41ca1fc06",
   "metadata": {},
   "outputs": [],
   "source": []
  },
  {
   "cell_type": "code",
   "execution_count": null,
   "id": "9362f8fb-2d75-40e8-a548-da59b50617c4",
   "metadata": {},
   "outputs": [],
   "source": []
  },
  {
   "cell_type": "markdown",
   "id": "8ea9fd3d-f1bd-4a19-8576-54519e036a71",
   "metadata": {},
   "source": [
    "### 3.5: Sales Based on Cities and Regions\n"
   ]
  },
  {
   "cell_type": "code",
   "execution_count": 164,
   "id": "00c1d510-753a-43b5-817b-323ac7f8cc74",
   "metadata": {},
   "outputs": [
    {
     "data": {
      "text/plain": [
       "West       3140\n",
       "East       2785\n",
       "Central    2277\n",
       "South      1598\n",
       "Name: Region, dtype: int64"
      ]
     },
     "execution_count": 164,
     "metadata": {},
     "output_type": "execute_result"
    }
   ],
   "source": [
    "store_df['Region'].value_counts()\n"
   ]
  },
  {
   "cell_type": "code",
   "execution_count": 165,
   "id": "a7773fa2",
   "metadata": {},
   "outputs": [
    {
     "data": {
      "text/plain": [
       "<AxesSubplot: title={'center': 'SuperStore - Sales Made in Regions: 2015 - 2019'}, xlabel='Region', ylabel='count'>"
      ]
     },
     "execution_count": 165,
     "metadata": {},
     "output_type": "execute_result"
    },
    {
     "data": {
      "image/png": "[encoded data removed]",
      "text/plain": [
       "<Figure size 432x288 with 1 Axes>"
      ]
     },
     "metadata": {
      "needs_background": "light"
     },
     "output_type": "display_data"
    }
   ],
   "source": [
    "plt.figure(figsize=(6,4))\n",
    "plt.title('SuperStore - Sales Made in Regions: 2015 - 2019', fontsize=12, fontweight='bold')\n",
    "plt.ylabel('Sales')\n",
    "sns.countplot(x=store_df['Region'])"
   ]
  },
  {
   "cell_type": "code",
   "execution_count": 166,
   "id": "7abf452b",
   "metadata": {},
   "outputs": [],
   "source": [
    "top_states = store_df.groupby([\"State\"]).sum().sort_values(\"Sales\", ascending=False).head(20) # Sort the States as per the sales\n",
    "top_states = top_states[[\"Sales\"]].round(2) # Round off the Sales Value up to 2 decimal places\n",
    "top_states.reset_index(inplace=True)"
   ]
  },
  {
   "cell_type": "code",
   "execution_count": 167,
   "id": "5e9b66c1",
   "metadata": {},
   "outputs": [
    {
     "data": {
      "image/png": "[encoded data removed]",
      "text/plain": [
       "<Figure size 1440x360 with 1 Axes>"
      ]
     },
     "metadata": {
      "needs_background": "light"
     },
     "output_type": "display_data"
    }
   ],
   "source": [
    "plt.figure(figsize=(20,5))\n",
    "plt.bar(top_states['State'],top_states['Sales'],color='#9fa5d5',edgecolor='blue')\n",
    "plt.xticks(rotation='vertical')\n",
    "plt.title('SuperStore - 20 Cities with The Highest Revenues for The review period: 2015 - 2019',fontsize=12, fontweight='bold')\n",
    "plt.xlabel('State',fontsize=12)\n",
    "plt.ylabel('Total Revenue',fontsize=12)\n",
    "for i,j in top_states[\"Sales\"].items(): #To show the exact revenue generated on the figure\n",
    "    if j>400000:\n",
    "        plt.text(i,j-150000,'$'+ str(j), fontsize=12,rotation=90,color='k', horizontalalignment='center');\n",
    "    else:\n",
    "        plt.text(i,j+15000,'$'+ str(j), fontsize=12,rotation=90,color='k', horizontalalignment='center');"
   ]
  },
  {
   "cell_type": "markdown",
   "id": "bbf7cae2",
   "metadata": {},
   "source": [
    "As observed, the State of California generated the most revenue for SuperStore"
   ]
  },
  {
   "cell_type": "markdown",
   "id": "fc8760b3",
   "metadata": {},
   "source": []
  },
  {
   "cell_type": "code",
   "execution_count": null,
   "id": "2b43bc28",
   "metadata": {},
   "outputs": [],
   "source": []
  },
  {
   "cell_type": "markdown",
   "id": "0dc5e44d",
   "metadata": {},
   "source": [
    "### 3.7: Losses Experienced By SuperStore"
   ]
  },
  {
   "cell_type": "markdown",
   "id": "cb90aab2",
   "metadata": {},
   "source": [
    "Despite an overall growth in profit, the Store also had its share of losses. To analyze this we will take the Profit column and filter out a dataframe with Profit less than 0."
   ]
  },
  {
   "cell_type": "code",
   "execution_count": 168,
   "id": "250ef19d",
   "metadata": {},
   "outputs": [
    {
     "data": {
      "text/plain": [
       "(1847, 24)"
      ]
     },
     "execution_count": 168,
     "metadata": {},
     "output_type": "execute_result"
    }
   ],
   "source": [
    "losses_df = store_df[store_df['Profit'] < 0]\n",
    "losses_df.shape"
   ]
  },
  {
   "cell_type": "markdown",
   "id": "f7710f0d",
   "metadata": {},
   "source": [
    "Of the 9800 transactions, 1847 resulted in losses for the store"
   ]
  },
  {
   "cell_type": "code",
   "execution_count": 169,
   "id": "5a435ad9",
   "metadata": {},
   "outputs": [
    {
     "name": "stdout",
     "output_type": "stream",
     "text": [
      "Total loss for the Review Period is 155407.630000\n"
     ]
    }
   ],
   "source": [
    "total_loss = np.negative(losses_df['Profit'].sum().round(2))\n",
    "total_loss\n",
    "\n",
    "print(\"Total loss for the Review Period is %2f\"%total_loss.round(2))"
   ]
  },
  {
   "cell_type": "code",
   "execution_count": null,
   "id": "8cc68dba",
   "metadata": {},
   "outputs": [],
   "source": []
  }
 ],
 "metadata": {
  "kernelspec": {
   "display_name": "Python 3 (ipykernel)",
   "language": "python",
   "name": "python3"
  },
  "language_info": {
   "codemirror_mode": {
    "name": "ipython",
    "version": 3
   },
   "file_extension": ".py",
   "mimetype": "text/x-python",
   "name": "python",
   "nbconvert_exporter": "python",
   "pygments_lexer": "ipython3",
   "version": "3.10.4"
  },
  "toc-autonumbering": false,
  "toc-showcode": false,
  "toc-showmarkdowntxt": false,
  "toc-showtags": false,
  "vscode": {
   "interpreter": {
    "hash": "f3d5247997b242e2ee84c3d630eeeccac3e67b2682a45443aeb85a33b102e51d"
   }
  }
 },
 "nbformat": 4,
 "nbformat_minor": 5
}
